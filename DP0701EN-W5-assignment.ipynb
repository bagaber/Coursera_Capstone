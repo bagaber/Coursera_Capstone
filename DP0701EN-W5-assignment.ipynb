{
    "cells": [
        {
            "cell_type": "markdown",
            "metadata": {},
            "source": "# Applied Data Science Capstone"
        },
        {
            "cell_type": "markdown",
            "metadata": {},
            "source": "### This project is done by @Bagaber as an assignment for \"IBM Data Science Professional Certificate\""
        },
        {
            "cell_type": "markdown",
            "metadata": {},
            "source": "#### 1.  description of the problem and a discussion of the background.\nOur stakeholders (restaurant-chains owner) want us to make a data-driven decision about which is the best neighbor in London to open an Asian Restaurant.\n\n#### 2. description of the data and how it will be used to solve the problem.\n2.1\tWe will use the data available in London Datastore (free data-sharing portal) in order to decide which borough we will have our Asian restaurant (https://data.london.gov.uk/ )\n\n2.1.1\tThis data will help us t is the most populated considering the targeted ethnic group that is interested in our restaurant.  Moreover I will considered the population projection till 2030 in order to make sure the business is profitable for the coming 10 years. \n https://data.london.gov.uk/dataset/ethnic-group-population-projections \n\n2.1.2.\tAnother data that will help us is the weekly earning per year in each borough https://data.london.gov.uk/dataset/earnings-place-residence-borough\n\n2.2\tWe will use foursquare to check the neighborhoods of the chosen borough.  Which locations has the most visited restaurants?  Which location is populated by Asian..etc.\n\n\n#### 3. Methodology section  where you discuss and describe any exploratory data analysis that you did\n\nAs you will see in the notebook:\n\n3.1\tTo work on the solution, I have used Pandas library to read above data in XLS format and convert them into pandas dataframes. I\u2019ve done extensive data cleaning to present the data in suitable format, exploration analysis is done as well (line chart)\n\n3.2\tI got the geolocations of borough & neighborhood from Wikipedia.  3 libraries have been used to get the coordinates from the URLs (requests, urllib and BeautifulSoup\n https://en.wikipedia.org/wiki/List_of_London_boroughs\nhttps://en.wikipedia.org/wiki/List_of_areas_of_London\n\n3.3\tFolium library is used to visualize the neighborhoods.\n\n3.4\tI used Foursquare API to explore the neighborhoods in London city. Venues, the venues\u2019 categories, working hours ..etc are taken from Foursquare.\n\n3.5\tI\u2019ve clustered the neighborhoods using K-means Clustering algorithm. \n"
        },
        {
            "cell_type": "markdown",
            "metadata": {},
            "source": "# Let's start  analysis:"
        },
        {
            "cell_type": "code",
            "execution_count": 304,
            "metadata": {},
            "outputs": [],
            "source": "#importing the libraries\n#belwo code will be hidden by IBM since it containts my IDBM DB credintials"
        },
        {
            "cell_type": "code",
            "execution_count": 101,
            "metadata": {},
            "outputs": [],
            "source": "# The code was removed by Watson Studio for sharing."
        },
        {
            "cell_type": "markdown",
            "metadata": {},
            "source": "belwo code will be hidden by IBM since it containts my IDBM DB credintials\nit will read the data of below link\nhttps://data.london.gov.uk/download/ethnic-group-population-projections/a9598ef0-808c-4f96-9eac-8bb314bd92cd/Ethnic%20group%20projections%20%282016-based%20central%20trend%29.xlsx"
        },
        {
            "cell_type": "code",
            "execution_count": 302,
            "metadata": {},
            "outputs": [],
            "source": "# The code was removed by Watson Studio for sharing."
        },
        {
            "cell_type": "markdown",
            "metadata": {},
            "source": "let's take a look to the shape of this databse"
        },
        {
            "cell_type": "code",
            "execution_count": 64,
            "metadata": {},
            "outputs": [
                {
                    "data": {
                        "text/plain": "(57684, 45)"
                    },
                    "execution_count": 64,
                    "metadata": {},
                    "output_type": "execute_result"
                }
            ],
            "source": "db1.shape"
        },
        {
            "cell_type": "markdown",
            "metadata": {},
            "source": "columns of this database"
        },
        {
            "cell_type": "code",
            "execution_count": 66,
            "metadata": {
                "scrolled": true
            },
            "outputs": [
                {
                    "data": {
                        "text/plain": "Index([    'gss_code',      'borough',          'sex',          'age',\n       'ethnic_group',           2011,           2012,           2013,\n                 2014,           2015,           2016,           2017,\n                 2018,           2019,           2020,           2021,\n                 2022,           2023,           2024,           2025,\n                 2026,           2027,           2028,           2029,\n                 2030,           2031,           2032,           2033,\n                 2034,           2035,           2036,           2037,\n                 2038,           2039,           2040,           2041,\n                 2042,           2043,           2044,           2045,\n                 2046,           2047,           2048,           2049,\n                 2050],\n      dtype='object')"
                    },
                    "execution_count": 66,
                    "metadata": {},
                    "output_type": "execute_result"
                }
            ],
            "source": "db1.columns"
        },
        {
            "cell_type": "markdown",
            "metadata": {},
            "source": "so it contains the projection of the pupulation of each ethinic group in each borough till 2050"
        },
        {
            "cell_type": "markdown",
            "metadata": {},
            "source": "### we will consider the average till 2030 only to make sure that the businness if feasible for the coming 10 years.  "
        },
        {
            "cell_type": "code",
            "execution_count": 69,
            "metadata": {},
            "outputs": [],
            "source": "db2=db1[['gss_code','borough','ethnic_group',2011,2012,2013,2014,2015,2016,2017,2018,2019,2020,2021,2022,2023,2024,2025,2026,2027,2028,2029,2030]]\n"
        },
        {
            "cell_type": "code",
            "execution_count": 70,
            "metadata": {},
            "outputs": [],
            "source": "db2.set_index(['gss_code'])\ndb3=db2.groupby(['gss_code','borough', 'ethnic_group'],as_index=False).mean()"
        },
        {
            "cell_type": "markdown",
            "metadata": {},
            "source": "let's check the ethnic_group that we have"
        },
        {
            "cell_type": "code",
            "execution_count": 72,
            "metadata": {
                "scrolled": true
            },
            "outputs": [
                {
                    "data": {
                        "text/plain": "array(['All persons', 'Arab', 'BAME', 'Bangladeshi', 'Black African',\n       'Black Caribbean', 'Chinese', 'Indian', 'Other Asian',\n       'Other Black', 'Other Ethnic Group', 'Other Mixed', 'Other White',\n       'Pakistani', 'White & Asian', 'White & Black African',\n       'White & Black Caribbean', 'White British', 'White Irish'],\n      dtype=object)"
                    },
                    "execution_count": 72,
                    "metadata": {},
                    "output_type": "execute_result"
                }
            ],
            "source": "db3['ethnic_group'].unique()"
        },
        {
            "cell_type": "markdown",
            "metadata": {},
            "source": "### for our asian restaurant we are intersted in below 5 grupos only , & we will drop remaining "
        },
        {
            "cell_type": "code",
            "execution_count": 74,
            "metadata": {},
            "outputs": [],
            "source": "db3.drop(db3[(db3.ethnic_group != 'Bangladeshi') & (db3.ethnic_group != 'Chinese') & (db3.ethnic_group != 'Pakistani') & (db3.ethnic_group != 'Indian') & (db3.ethnic_group != 'Other Asian')].index, inplace=True)\n"
        },
        {
            "cell_type": "code",
            "execution_count": 76,
            "metadata": {},
            "outputs": [
                {
                    "data": {
                        "text/plain": "array(['Bangladeshi', 'Chinese', 'Indian', 'Other Asian', 'Pakistani'],\n      dtype=object)"
                    },
                    "execution_count": 76,
                    "metadata": {},
                    "output_type": "execute_result"
                }
            ],
            "source": "db3['ethnic_group'].unique()"
        },
        {
            "cell_type": "code",
            "execution_count": 305,
            "metadata": {},
            "outputs": [
                {
                    "ename": "SyntaxError",
                    "evalue": "invalid syntax (<ipython-input-305-84b5d3e6a62b>, line 1)",
                    "output_type": "error",
                    "traceback": [
                        "\u001b[0;36m  File \u001b[0;32m\"<ipython-input-305-84b5d3e6a62b>\"\u001b[0;36m, line \u001b[0;32m1\u001b[0m\n\u001b[0;31m    since the DF has our targeted group we will group by borough\u001b[0m\n\u001b[0m            ^\u001b[0m\n\u001b[0;31mSyntaxError\u001b[0m\u001b[0;31m:\u001b[0m invalid syntax\n"
                    ]
                }
            ],
            "source": "since the DF has our targeted group we will group by borough "
        },
        {
            "cell_type": "code",
            "execution_count": 90,
            "metadata": {},
            "outputs": [],
            "source": "db4=db3.groupby(['gss_code','borough'],as_index=False).mean()"
        },
        {
            "cell_type": "markdown",
            "metadata": {},
            "source": "explore & clean the data"
        },
        {
            "cell_type": "code",
            "execution_count": 91,
            "metadata": {},
            "outputs": [
                {
                    "data": {
                        "text/html": "<div>\n<style scoped>\n    .dataframe tbody tr th:only-of-type {\n        vertical-align: middle;\n    }\n\n    .dataframe tbody tr th {\n        vertical-align: top;\n    }\n\n    .dataframe thead th {\n        text-align: right;\n    }\n</style>\n<table border=\"1\" class=\"dataframe\">\n  <thead>\n    <tr style=\"text-align: right;\">\n      <th></th>\n      <th>gss_code</th>\n      <th>borough</th>\n      <th>2011</th>\n      <th>2012</th>\n      <th>2013</th>\n      <th>2014</th>\n      <th>2015</th>\n      <th>2016</th>\n      <th>2017</th>\n      <th>2018</th>\n      <th>...</th>\n      <th>2021</th>\n      <th>2022</th>\n      <th>2023</th>\n      <th>2024</th>\n      <th>2025</th>\n      <th>2026</th>\n      <th>2027</th>\n      <th>2028</th>\n      <th>2029</th>\n      <th>2030</th>\n    </tr>\n  </thead>\n  <tbody>\n    <tr>\n      <th>0</th>\n      <td>E09000001</td>\n      <td>City of London</td>\n      <td>4.084783</td>\n      <td>3.934783</td>\n      <td>3.636957</td>\n      <td>3.628261</td>\n      <td>3.906522</td>\n      <td>4.089130</td>\n      <td>4.117391</td>\n      <td>4.119565</td>\n      <td>...</td>\n      <td>4.195652</td>\n      <td>4.223913</td>\n      <td>4.256522</td>\n      <td>4.256522</td>\n      <td>4.300000</td>\n      <td>4.330435</td>\n      <td>4.363043</td>\n      <td>4.382609</td>\n      <td>4.391304</td>\n      <td>4.419565</td>\n    </tr>\n    <tr>\n      <th>1</th>\n      <td>E09000002</td>\n      <td>Barking and Dagenham</td>\n      <td>129.828261</td>\n      <td>140.569565</td>\n      <td>151.145652</td>\n      <td>162.476087</td>\n      <td>173.163043</td>\n      <td>184.623913</td>\n      <td>194.300000</td>\n      <td>203.647826</td>\n      <td>...</td>\n      <td>229.578261</td>\n      <td>237.586957</td>\n      <td>245.252174</td>\n      <td>252.613043</td>\n      <td>259.656522</td>\n      <td>266.450000</td>\n      <td>272.986957</td>\n      <td>279.276087</td>\n      <td>285.304348</td>\n      <td>291.132609</td>\n    </tr>\n    <tr>\n      <th>2</th>\n      <td>E09000003</td>\n      <td>Barnet</td>\n      <td>287.563043</td>\n      <td>296.791304</td>\n      <td>304.719565</td>\n      <td>313.991304</td>\n      <td>322.710870</td>\n      <td>332.478261</td>\n      <td>340.643478</td>\n      <td>348.604348</td>\n      <td>...</td>\n      <td>371.530435</td>\n      <td>378.691304</td>\n      <td>385.647826</td>\n      <td>392.313043</td>\n      <td>398.789130</td>\n      <td>405.034783</td>\n      <td>411.113043</td>\n      <td>417.043478</td>\n      <td>422.793478</td>\n      <td>428.373913</td>\n    </tr>\n    <tr>\n      <th>3</th>\n      <td>E09000004</td>\n      <td>Bexley</td>\n      <td>66.578261</td>\n      <td>69.508696</td>\n      <td>72.689130</td>\n      <td>76.221739</td>\n      <td>79.486957</td>\n      <td>82.839130</td>\n      <td>85.686957</td>\n      <td>88.493478</td>\n      <td>...</td>\n      <td>96.389130</td>\n      <td>98.876087</td>\n      <td>101.297826</td>\n      <td>103.667391</td>\n      <td>106.015217</td>\n      <td>108.306522</td>\n      <td>110.519565</td>\n      <td>112.730435</td>\n      <td>114.950000</td>\n      <td>117.089130</td>\n    </tr>\n    <tr>\n      <th>4</th>\n      <td>E09000005</td>\n      <td>Brent</td>\n      <td>463.413043</td>\n      <td>467.317391</td>\n      <td>471.971739</td>\n      <td>479.328261</td>\n      <td>486.656522</td>\n      <td>495.593478</td>\n      <td>502.615217</td>\n      <td>509.500000</td>\n      <td>...</td>\n      <td>529.619565</td>\n      <td>536.019565</td>\n      <td>542.239130</td>\n      <td>548.223913</td>\n      <td>554.026087</td>\n      <td>559.632609</td>\n      <td>565.013043</td>\n      <td>570.284783</td>\n      <td>575.408696</td>\n      <td>580.417391</td>\n    </tr>\n  </tbody>\n</table>\n<p>5 rows \u00d7 22 columns</p>\n</div>",
                        "text/plain": "    gss_code               borough        2011        2012        2013  \\\n0  E09000001        City of London    4.084783    3.934783    3.636957   \n1  E09000002  Barking and Dagenham  129.828261  140.569565  151.145652   \n2  E09000003                Barnet  287.563043  296.791304  304.719565   \n3  E09000004                Bexley   66.578261   69.508696   72.689130   \n4  E09000005                 Brent  463.413043  467.317391  471.971739   \n\n         2014        2015        2016        2017        2018  ...  \\\n0    3.628261    3.906522    4.089130    4.117391    4.119565  ...   \n1  162.476087  173.163043  184.623913  194.300000  203.647826  ...   \n2  313.991304  322.710870  332.478261  340.643478  348.604348  ...   \n3   76.221739   79.486957   82.839130   85.686957   88.493478  ...   \n4  479.328261  486.656522  495.593478  502.615217  509.500000  ...   \n\n         2021        2022        2023        2024        2025        2026  \\\n0    4.195652    4.223913    4.256522    4.256522    4.300000    4.330435   \n1  229.578261  237.586957  245.252174  252.613043  259.656522  266.450000   \n2  371.530435  378.691304  385.647826  392.313043  398.789130  405.034783   \n3   96.389130   98.876087  101.297826  103.667391  106.015217  108.306522   \n4  529.619565  536.019565  542.239130  548.223913  554.026087  559.632609   \n\n         2027        2028        2029        2030  \n0    4.363043    4.382609    4.391304    4.419565  \n1  272.986957  279.276087  285.304348  291.132609  \n2  411.113043  417.043478  422.793478  428.373913  \n3  110.519565  112.730435  114.950000  117.089130  \n4  565.013043  570.284783  575.408696  580.417391  \n\n[5 rows x 22 columns]"
                    },
                    "execution_count": 91,
                    "metadata": {},
                    "output_type": "execute_result"
                }
            ],
            "source": "db4.head()"
        },
        {
            "cell_type": "code",
            "execution_count": 92,
            "metadata": {},
            "outputs": [],
            "source": "db4.columns = list(map(str, db4.columns))"
        },
        {
            "cell_type": "markdown",
            "metadata": {},
            "source": "initiate a colummn for the average:"
        },
        {
            "cell_type": "code",
            "execution_count": 93,
            "metadata": {},
            "outputs": [],
            "source": "db4['avg']= db4.mean(axis=1)"
        },
        {
            "cell_type": "code",
            "execution_count": 94,
            "metadata": {
                "scrolled": true
            },
            "outputs": [
                {
                    "data": {
                        "text/html": "<div>\n<style scoped>\n    .dataframe tbody tr th:only-of-type {\n        vertical-align: middle;\n    }\n\n    .dataframe tbody tr th {\n        vertical-align: top;\n    }\n\n    .dataframe thead th {\n        text-align: right;\n    }\n</style>\n<table border=\"1\" class=\"dataframe\">\n  <thead>\n    <tr style=\"text-align: right;\">\n      <th></th>\n      <th>gss_code</th>\n      <th>borough</th>\n      <th>2011</th>\n      <th>2012</th>\n      <th>2013</th>\n      <th>2014</th>\n      <th>2015</th>\n      <th>2016</th>\n      <th>2017</th>\n      <th>2018</th>\n      <th>...</th>\n      <th>2022</th>\n      <th>2023</th>\n      <th>2024</th>\n      <th>2025</th>\n      <th>2026</th>\n      <th>2027</th>\n      <th>2028</th>\n      <th>2029</th>\n      <th>2030</th>\n      <th>avg</th>\n    </tr>\n  </thead>\n  <tbody>\n    <tr>\n      <th>0</th>\n      <td>E09000001</td>\n      <td>City of London</td>\n      <td>4.084783</td>\n      <td>3.934783</td>\n      <td>3.636957</td>\n      <td>3.628261</td>\n      <td>3.906522</td>\n      <td>4.089130</td>\n      <td>4.117391</td>\n      <td>4.119565</td>\n      <td>...</td>\n      <td>4.223913</td>\n      <td>4.256522</td>\n      <td>4.256522</td>\n      <td>4.300000</td>\n      <td>4.330435</td>\n      <td>4.363043</td>\n      <td>4.382609</td>\n      <td>4.391304</td>\n      <td>4.419565</td>\n      <td>4.147500</td>\n    </tr>\n    <tr>\n      <th>1</th>\n      <td>E09000002</td>\n      <td>Barking and Dagenham</td>\n      <td>129.828261</td>\n      <td>140.569565</td>\n      <td>151.145652</td>\n      <td>162.476087</td>\n      <td>173.163043</td>\n      <td>184.623913</td>\n      <td>194.300000</td>\n      <td>203.647826</td>\n      <td>...</td>\n      <td>237.586957</td>\n      <td>245.252174</td>\n      <td>252.613043</td>\n      <td>259.656522</td>\n      <td>266.450000</td>\n      <td>272.986957</td>\n      <td>279.276087</td>\n      <td>285.304348</td>\n      <td>291.132609</td>\n      <td>219.672826</td>\n    </tr>\n    <tr>\n      <th>2</th>\n      <td>E09000003</td>\n      <td>Barnet</td>\n      <td>287.563043</td>\n      <td>296.791304</td>\n      <td>304.719565</td>\n      <td>313.991304</td>\n      <td>322.710870</td>\n      <td>332.478261</td>\n      <td>340.643478</td>\n      <td>348.604348</td>\n      <td>...</td>\n      <td>378.691304</td>\n      <td>385.647826</td>\n      <td>392.313043</td>\n      <td>398.789130</td>\n      <td>405.034783</td>\n      <td>411.113043</td>\n      <td>417.043478</td>\n      <td>422.793478</td>\n      <td>428.373913</td>\n      <td>363.966522</td>\n    </tr>\n    <tr>\n      <th>3</th>\n      <td>E09000004</td>\n      <td>Bexley</td>\n      <td>66.578261</td>\n      <td>69.508696</td>\n      <td>72.689130</td>\n      <td>76.221739</td>\n      <td>79.486957</td>\n      <td>82.839130</td>\n      <td>85.686957</td>\n      <td>88.493478</td>\n      <td>...</td>\n      <td>98.876087</td>\n      <td>101.297826</td>\n      <td>103.667391</td>\n      <td>106.015217</td>\n      <td>108.306522</td>\n      <td>110.519565</td>\n      <td>112.730435</td>\n      <td>114.950000</td>\n      <td>117.089130</td>\n      <td>93.817826</td>\n    </tr>\n    <tr>\n      <th>4</th>\n      <td>E09000005</td>\n      <td>Brent</td>\n      <td>463.413043</td>\n      <td>467.317391</td>\n      <td>471.971739</td>\n      <td>479.328261</td>\n      <td>486.656522</td>\n      <td>495.593478</td>\n      <td>502.615217</td>\n      <td>509.500000</td>\n      <td>...</td>\n      <td>536.019565</td>\n      <td>542.239130</td>\n      <td>548.223913</td>\n      <td>554.026087</td>\n      <td>559.632609</td>\n      <td>565.013043</td>\n      <td>570.284783</td>\n      <td>575.408696</td>\n      <td>580.417391</td>\n      <td>523.833478</td>\n    </tr>\n  </tbody>\n</table>\n<p>5 rows \u00d7 23 columns</p>\n</div>",
                        "text/plain": "    gss_code               borough        2011        2012        2013  \\\n0  E09000001        City of London    4.084783    3.934783    3.636957   \n1  E09000002  Barking and Dagenham  129.828261  140.569565  151.145652   \n2  E09000003                Barnet  287.563043  296.791304  304.719565   \n3  E09000004                Bexley   66.578261   69.508696   72.689130   \n4  E09000005                 Brent  463.413043  467.317391  471.971739   \n\n         2014        2015        2016        2017        2018  ...  \\\n0    3.628261    3.906522    4.089130    4.117391    4.119565  ...   \n1  162.476087  173.163043  184.623913  194.300000  203.647826  ...   \n2  313.991304  322.710870  332.478261  340.643478  348.604348  ...   \n3   76.221739   79.486957   82.839130   85.686957   88.493478  ...   \n4  479.328261  486.656522  495.593478  502.615217  509.500000  ...   \n\n         2022        2023        2024        2025        2026        2027  \\\n0    4.223913    4.256522    4.256522    4.300000    4.330435    4.363043   \n1  237.586957  245.252174  252.613043  259.656522  266.450000  272.986957   \n2  378.691304  385.647826  392.313043  398.789130  405.034783  411.113043   \n3   98.876087  101.297826  103.667391  106.015217  108.306522  110.519565   \n4  536.019565  542.239130  548.223913  554.026087  559.632609  565.013043   \n\n         2028        2029        2030         avg  \n0    4.382609    4.391304    4.419565    4.147500  \n1  279.276087  285.304348  291.132609  219.672826  \n2  417.043478  422.793478  428.373913  363.966522  \n3  112.730435  114.950000  117.089130   93.817826  \n4  570.284783  575.408696  580.417391  523.833478  \n\n[5 rows x 23 columns]"
                    },
                    "execution_count": 94,
                    "metadata": {},
                    "output_type": "execute_result"
                }
            ],
            "source": "db4.head()"
        },
        {
            "cell_type": "markdown",
            "metadata": {},
            "source": "let's drop the years since we have created the average column & sort by the highest borough"
        },
        {
            "cell_type": "code",
            "execution_count": 87,
            "metadata": {},
            "outputs": [],
            "source": "db4.drop(['2011', '2012', '2013', '2014', '2015', '2016', '2017', '2018', '2019', '2020', '2021', '2022', '2023', '2024', '2025', '2026', '2027', '2028','2029', '2030' ], axis=1, inplace=True)\n"
        },
        {
            "cell_type": "code",
            "execution_count": 88,
            "metadata": {},
            "outputs": [],
            "source": "db4.sort_values(by='avg', ascending=False, axis=0, inplace=True)"
        },
        {
            "cell_type": "code",
            "execution_count": 89,
            "metadata": {},
            "outputs": [
                {
                    "data": {
                        "text/html": "<div>\n<style scoped>\n    .dataframe tbody tr th:only-of-type {\n        vertical-align: middle;\n    }\n\n    .dataframe tbody tr th {\n        vertical-align: top;\n    }\n\n    .dataframe thead th {\n        text-align: right;\n    }\n</style>\n<table border=\"1\" class=\"dataframe\">\n  <thead>\n    <tr style=\"text-align: right;\">\n      <th></th>\n      <th>gss_code</th>\n      <th>borough</th>\n      <th>avg</th>\n    </tr>\n  </thead>\n  <tbody>\n    <tr>\n      <th>24</th>\n      <td>E09000025</td>\n      <td>Newham</td>\n      <td>742.264891</td>\n    </tr>\n    <tr>\n      <th>25</th>\n      <td>E09000026</td>\n      <td>Redbridge</td>\n      <td>693.642391</td>\n    </tr>\n    <tr>\n      <th>29</th>\n      <td>E09000030</td>\n      <td>Tower Hamlets</td>\n      <td>558.881304</td>\n    </tr>\n    <tr>\n      <th>14</th>\n      <td>E09000015</td>\n      <td>Harrow</td>\n      <td>532.936630</td>\n    </tr>\n    <tr>\n      <th>4</th>\n      <td>E09000005</td>\n      <td>Brent</td>\n      <td>523.833478</td>\n    </tr>\n  </tbody>\n</table>\n</div>",
                        "text/plain": "     gss_code        borough         avg\n24  E09000025         Newham  742.264891\n25  E09000026      Redbridge  693.642391\n29  E09000030  Tower Hamlets  558.881304\n14  E09000015         Harrow  532.936630\n4   E09000005          Brent  523.833478"
                    },
                    "execution_count": 89,
                    "metadata": {},
                    "output_type": "execute_result"
                }
            ],
            "source": "db4.head()"
        },
        {
            "cell_type": "markdown",
            "metadata": {},
            "source": "## as a result of above analysis ,  Newham borough has highest asian population, we will consider the earnings data of only this borough\n\nLet's create a DF for our chosen borough:"
        },
        {
            "cell_type": "code",
            "execution_count": 113,
            "metadata": {
                "scrolled": true
            },
            "outputs": [
                {
                    "data": {
                        "text/html": "<div>\n<style scoped>\n    .dataframe tbody tr th:only-of-type {\n        vertical-align: middle;\n    }\n\n    .dataframe tbody tr th {\n        vertical-align: top;\n    }\n\n    .dataframe thead th {\n        text-align: right;\n    }\n</style>\n<table border=\"1\" class=\"dataframe\">\n  <thead>\n    <tr style=\"text-align: right;\">\n      <th></th>\n      <th>gss_code</th>\n      <th>borough</th>\n      <th>2011</th>\n      <th>2012</th>\n      <th>2013</th>\n      <th>2014</th>\n      <th>2015</th>\n      <th>2016</th>\n      <th>2017</th>\n      <th>2018</th>\n      <th>...</th>\n      <th>2021</th>\n      <th>2022</th>\n      <th>2023</th>\n      <th>2024</th>\n      <th>2025</th>\n      <th>2026</th>\n      <th>2027</th>\n      <th>2028</th>\n      <th>2029</th>\n      <th>2030</th>\n    </tr>\n  </thead>\n  <tbody>\n    <tr>\n      <th>24</th>\n      <td>E09000025</td>\n      <td>Newham</td>\n      <td>589.773913</td>\n      <td>605.806522</td>\n      <td>620.723913</td>\n      <td>639.871739</td>\n      <td>662.591304</td>\n      <td>684.995652</td>\n      <td>701.397826</td>\n      <td>717.102174</td>\n      <td>...</td>\n      <td>760.384783</td>\n      <td>773.658696</td>\n      <td>786.417391</td>\n      <td>798.678261</td>\n      <td>810.430435</td>\n      <td>821.763043</td>\n      <td>832.730435</td>\n      <td>843.293478</td>\n      <td>853.526087</td>\n      <td>863.38913</td>\n    </tr>\n  </tbody>\n</table>\n<p>1 rows \u00d7 22 columns</p>\n</div>",
                        "text/plain": "     gss_code borough        2011        2012        2013        2014  \\\n24  E09000025  Newham  589.773913  605.806522  620.723913  639.871739   \n\n          2015        2016        2017        2018  ...        2021  \\\n24  662.591304  684.995652  701.397826  717.102174  ...  760.384783   \n\n          2022        2023        2024        2025        2026        2027  \\\n24  773.658696  786.417391  798.678261  810.430435  821.763043  832.730435   \n\n          2028        2029       2030  \n24  843.293478  853.526087  863.38913  \n\n[1 rows x 22 columns]"
                    },
                    "execution_count": 113,
                    "metadata": {},
                    "output_type": "execute_result"
                }
            ],
            "source": "NewHam_population=db3.groupby(['gss_code','borough'],as_index=False).mean()\nNewHam_population=NewHam_population.loc[NewHam_population['borough'] == 'Newham']\nNewHam_population"
        },
        {
            "cell_type": "markdown",
            "metadata": {},
            "source": "### using the data the \"Weekly Earnings since 2003 till 2019  in each borough"
        },
        {
            "cell_type": "markdown",
            "metadata": {},
            "source": "information imported below excel file\nfrom https://data.london.gov.uk/download/earnings-place-residence-borough/1686ef1c-b169-442d-8877-e7e49788f668/earnings-residence-borough.xlsx\n\n excprot code was removed by Watson Studio for sharing.\n"
        },
        {
            "cell_type": "code",
            "execution_count": 307,
            "metadata": {},
            "outputs": [],
            "source": "# The code was removed by Watson Studio for sharing."
        },
        {
            "cell_type": "code",
            "execution_count": 102,
            "metadata": {},
            "outputs": [
                {
                    "data": {
                        "text/html": "<div>\n<style scoped>\n    .dataframe tbody tr th:only-of-type {\n        vertical-align: middle;\n    }\n\n    .dataframe tbody tr th {\n        vertical-align: top;\n    }\n\n    .dataframe thead th {\n        text-align: right;\n    }\n</style>\n<table border=\"1\" class=\"dataframe\">\n  <thead>\n    <tr style=\"text-align: right;\">\n      <th></th>\n      <th>Code</th>\n      <th>Area</th>\n      <th>2003 Pay (\u00a3)</th>\n      <th>2004 Pay (\u00a3)</th>\n      <th>2005 Pay (\u00a3)</th>\n      <th>2006 Pay (\u00a3)</th>\n      <th>2007 Pay (\u00a3)</th>\n      <th>2008 Pay (\u00a3)</th>\n      <th>2009 Pay (\u00a3)</th>\n      <th>2010 Pay (\u00a3)</th>\n      <th>2011 Pay (\u00a3)</th>\n      <th>2012 Pay (\u00a3)</th>\n      <th>2013 Pay (\u00a3)</th>\n      <th>2014 Pay (\u00a3)</th>\n      <th>2015 Pay (\u00a3)</th>\n      <th>2016 Pay (\u00a3)</th>\n      <th>2017 Pay (\u00a3)</th>\n      <th>2018 Pay (\u00a3)</th>\n      <th>2019 Pay (\u00a3)</th>\n    </tr>\n  </thead>\n  <tbody>\n    <tr>\n      <th>0</th>\n      <td>00AB</td>\n      <td>Barking and Dagenham</td>\n      <td>354.9</td>\n      <td>360.1</td>\n      <td>375.1</td>\n      <td>417.6</td>\n      <td>446.7</td>\n      <td>449.9</td>\n      <td>448.8</td>\n      <td>429.3</td>\n      <td>452.1</td>\n      <td>450.0</td>\n      <td>441.2</td>\n      <td>422.5</td>\n      <td>436.6</td>\n      <td>462.2</td>\n      <td>461.0</td>\n      <td>479.1</td>\n      <td>472.9</td>\n    </tr>\n    <tr>\n      <th>1</th>\n      <td>00AC</td>\n      <td>Barnet</td>\n      <td>450.1</td>\n      <td>453.3</td>\n      <td>442.3</td>\n      <td>466.1</td>\n      <td>460.0</td>\n      <td>502.2</td>\n      <td>528.1</td>\n      <td>501.6</td>\n      <td>498.3</td>\n      <td>503.1</td>\n      <td>517.5</td>\n      <td>479.1</td>\n      <td>491.0</td>\n      <td>485.6</td>\n      <td>522.6</td>\n      <td>536.6</td>\n      <td>536.6</td>\n    </tr>\n    <tr>\n      <th>2</th>\n      <td>00AD</td>\n      <td>Bexley</td>\n      <td>431.9</td>\n      <td>438.1</td>\n      <td>452.4</td>\n      <td>443.4</td>\n      <td>469.8</td>\n      <td>483.9</td>\n      <td>486.3</td>\n      <td>518.1</td>\n      <td>505.1</td>\n      <td>509.1</td>\n      <td>497.9</td>\n      <td>512.6</td>\n      <td>491.1</td>\n      <td>487.0</td>\n      <td>513.0</td>\n      <td>513.8</td>\n      <td>550.2</td>\n    </tr>\n    <tr>\n      <th>3</th>\n      <td>00AE</td>\n      <td>Brent</td>\n      <td>359.8</td>\n      <td>395.5</td>\n      <td>394.7</td>\n      <td>398.7</td>\n      <td>421.6</td>\n      <td>437.0</td>\n      <td>439.1</td>\n      <td>423.1</td>\n      <td>414.9</td>\n      <td>442.0</td>\n      <td>441.8</td>\n      <td>441.8</td>\n      <td>457.6</td>\n      <td>467.0</td>\n      <td>471.0</td>\n      <td>480.0</td>\n      <td>524.6</td>\n    </tr>\n    <tr>\n      <th>4</th>\n      <td>00AF</td>\n      <td>Bromley</td>\n      <td>449.2</td>\n      <td>461.2</td>\n      <td>464.8</td>\n      <td>479.5</td>\n      <td>506.3</td>\n      <td>546.0</td>\n      <td>545.6</td>\n      <td>527.2</td>\n      <td>551.7</td>\n      <td>566.6</td>\n      <td>581.1</td>\n      <td>578.5</td>\n      <td>583.8</td>\n      <td>584.3</td>\n      <td>608.0</td>\n      <td>632.5</td>\n      <td>641.3</td>\n    </tr>\n  </tbody>\n</table>\n</div>",
                        "text/plain": "   Code                  Area  2003 Pay (\u00a3)  2004 Pay (\u00a3)  2005 Pay (\u00a3)  \\\n0  00AB  Barking and Dagenham         354.9         360.1         375.1   \n1  00AC                Barnet         450.1         453.3         442.3   \n2  00AD                Bexley         431.9         438.1         452.4   \n3  00AE                 Brent         359.8         395.5         394.7   \n4  00AF               Bromley         449.2         461.2         464.8   \n\n   2006 Pay (\u00a3)  2007 Pay (\u00a3)  2008 Pay (\u00a3)  2009 Pay (\u00a3)  2010 Pay (\u00a3)  \\\n0         417.6         446.7         449.9         448.8         429.3   \n1         466.1         460.0         502.2         528.1         501.6   \n2         443.4         469.8         483.9         486.3         518.1   \n3         398.7         421.6         437.0         439.1         423.1   \n4         479.5         506.3         546.0         545.6         527.2   \n\n   2011 Pay (\u00a3)  2012 Pay (\u00a3)  2013 Pay (\u00a3)  2014 Pay (\u00a3)  2015 Pay (\u00a3)  \\\n0         452.1         450.0         441.2         422.5         436.6   \n1         498.3         503.1         517.5         479.1         491.0   \n2         505.1         509.1         497.9         512.6         491.1   \n3         414.9         442.0         441.8         441.8         457.6   \n4         551.7         566.6         581.1         578.5         583.8   \n\n   2016 Pay (\u00a3)  2017 Pay (\u00a3)  2018 Pay (\u00a3)  2019 Pay (\u00a3)  \n0         462.2         461.0         479.1         472.9  \n1         485.6         522.6         536.6         536.6  \n2         487.0         513.0         513.8         550.2  \n3         467.0         471.0         480.0         524.6  \n4         584.3         608.0         632.5         641.3  "
                    },
                    "execution_count": 102,
                    "metadata": {},
                    "output_type": "execute_result"
                }
            ],
            "source": "earning = pd.read_excel(body)\nearning.head()"
        },
        {
            "cell_type": "code",
            "execution_count": 105,
            "metadata": {},
            "outputs": [
                {
                    "data": {
                        "text/plain": "(32, 19)"
                    },
                    "execution_count": 105,
                    "metadata": {},
                    "output_type": "execute_result"
                }
            ],
            "source": "earning.shape"
        },
        {
            "cell_type": "code",
            "execution_count": 108,
            "metadata": {},
            "outputs": [],
            "source": "earning=earning.set_index(['Code'])"
        },
        {
            "cell_type": "markdown",
            "metadata": {},
            "source": "let's focus on Newham which what we decided in the prevoius section based on the ethnic population:"
        },
        {
            "cell_type": "code",
            "execution_count": 115,
            "metadata": {},
            "outputs": [
                {
                    "data": {
                        "text/html": "<div>\n<style scoped>\n    .dataframe tbody tr th:only-of-type {\n        vertical-align: middle;\n    }\n\n    .dataframe tbody tr th {\n        vertical-align: top;\n    }\n\n    .dataframe thead th {\n        text-align: right;\n    }\n</style>\n<table border=\"1\" class=\"dataframe\">\n  <thead>\n    <tr style=\"text-align: right;\">\n      <th></th>\n      <th>Area</th>\n      <th>2003 Pay (\u00a3)</th>\n      <th>2004 Pay (\u00a3)</th>\n      <th>2005 Pay (\u00a3)</th>\n      <th>2006 Pay (\u00a3)</th>\n      <th>2007 Pay (\u00a3)</th>\n      <th>2008 Pay (\u00a3)</th>\n      <th>2009 Pay (\u00a3)</th>\n      <th>2010 Pay (\u00a3)</th>\n      <th>2011 Pay (\u00a3)</th>\n      <th>2012 Pay (\u00a3)</th>\n      <th>2013 Pay (\u00a3)</th>\n      <th>2014 Pay (\u00a3)</th>\n      <th>2015 Pay (\u00a3)</th>\n      <th>2016 Pay (\u00a3)</th>\n      <th>2017 Pay (\u00a3)</th>\n      <th>2018 Pay (\u00a3)</th>\n      <th>2019 Pay (\u00a3)</th>\n    </tr>\n    <tr>\n      <th>Code</th>\n      <th></th>\n      <th></th>\n      <th></th>\n      <th></th>\n      <th></th>\n      <th></th>\n      <th></th>\n      <th></th>\n      <th></th>\n      <th></th>\n      <th></th>\n      <th></th>\n      <th></th>\n      <th></th>\n      <th></th>\n      <th></th>\n      <th></th>\n      <th></th>\n    </tr>\n  </thead>\n  <tbody>\n    <tr>\n      <th>00BB</th>\n      <td>Newham</td>\n      <td>343.4</td>\n      <td>371.0</td>\n      <td>383.2</td>\n      <td>390.9</td>\n      <td>390.8</td>\n      <td>403.0</td>\n      <td>421.6</td>\n      <td>422.4</td>\n      <td>382.5</td>\n      <td>369.8</td>\n      <td>387.6</td>\n      <td>393.7</td>\n      <td>421.6</td>\n      <td>436.7</td>\n      <td>471.3</td>\n      <td>479.1</td>\n      <td>517.1</td>\n    </tr>\n  </tbody>\n</table>\n</div>",
                        "text/plain": "        Area  2003 Pay (\u00a3)  2004 Pay (\u00a3)  2005 Pay (\u00a3)  2006 Pay (\u00a3)  \\\nCode                                                                   \n00BB  Newham         343.4         371.0         383.2         390.9   \n\n      2007 Pay (\u00a3)  2008 Pay (\u00a3)  2009 Pay (\u00a3)  2010 Pay (\u00a3)  2011 Pay (\u00a3)  \\\nCode                                                                         \n00BB         390.8         403.0         421.6         422.4         382.5   \n\n      2012 Pay (\u00a3)  2013 Pay (\u00a3)  2014 Pay (\u00a3)  2015 Pay (\u00a3)  2016 Pay (\u00a3)  \\\nCode                                                                         \n00BB         369.8         387.6         393.7         421.6         436.7   \n\n      2017 Pay (\u00a3)  2018 Pay (\u00a3)  2019 Pay (\u00a3)  \nCode                                            \n00BB         471.3         479.1         517.1  "
                    },
                    "execution_count": 115,
                    "metadata": {},
                    "output_type": "execute_result"
                }
            ],
            "source": "NewHam_earning=earning.loc[earning['Area'] == 'Newham']\nNewHam_earning"
        },
        {
            "cell_type": "markdown",
            "metadata": {},
            "source": "Earnings DataFrame\n"
        },
        {
            "cell_type": "markdown",
            "metadata": {},
            "source": "### Data Explatory\ntranspose it for the sake for data Explatory"
        },
        {
            "cell_type": "code",
            "execution_count": 198,
            "metadata": {
                "scrolled": true
            },
            "outputs": [
                {
                    "data": {
                        "text/html": "<div>\n<style scoped>\n    .dataframe tbody tr th:only-of-type {\n        vertical-align: middle;\n    }\n\n    .dataframe tbody tr th {\n        vertical-align: top;\n    }\n\n    .dataframe thead th {\n        text-align: right;\n    }\n</style>\n<table border=\"1\" class=\"dataframe\">\n  <thead>\n    <tr style=\"text-align: right;\">\n      <th>Code</th>\n      <th>index</th>\n      <th>00BB</th>\n    </tr>\n  </thead>\n  <tbody>\n    <tr>\n      <th>0</th>\n      <td>Area</td>\n      <td>Newham</td>\n    </tr>\n    <tr>\n      <th>1</th>\n      <td>2003 Pay (\u00a3)</td>\n      <td>343.4</td>\n    </tr>\n    <tr>\n      <th>2</th>\n      <td>2004 Pay (\u00a3)</td>\n      <td>371</td>\n    </tr>\n    <tr>\n      <th>3</th>\n      <td>2005 Pay (\u00a3)</td>\n      <td>383.2</td>\n    </tr>\n    <tr>\n      <th>4</th>\n      <td>2006 Pay (\u00a3)</td>\n      <td>390.9</td>\n    </tr>\n  </tbody>\n</table>\n</div>",
                        "text/plain": "Code         index    00BB\n0             Area  Newham\n1     2003 Pay (\u00a3)   343.4\n2     2004 Pay (\u00a3)     371\n3     2005 Pay (\u00a3)   383.2\n4     2006 Pay (\u00a3)   390.9"
                    },
                    "execution_count": 198,
                    "metadata": {},
                    "output_type": "execute_result"
                }
            ],
            "source": "new_earning= NewHam_earning.T.reset_index()\nnew_earning.head()"
        },
        {
            "cell_type": "code",
            "execution_count": 199,
            "metadata": {},
            "outputs": [
                {
                    "data": {
                        "text/html": "<div>\n<style scoped>\n    .dataframe tbody tr th:only-of-type {\n        vertical-align: middle;\n    }\n\n    .dataframe tbody tr th {\n        vertical-align: top;\n    }\n\n    .dataframe thead th {\n        text-align: right;\n    }\n</style>\n<table border=\"1\" class=\"dataframe\">\n  <thead>\n    <tr style=\"text-align: right;\">\n      <th>Code</th>\n      <th>Year</th>\n      <th>Earnings</th>\n    </tr>\n  </thead>\n  <tbody>\n    <tr>\n      <th>0</th>\n      <td>2003 Pay (\u00a3)</td>\n      <td>343.4</td>\n    </tr>\n    <tr>\n      <th>1</th>\n      <td>2004 Pay (\u00a3)</td>\n      <td>371</td>\n    </tr>\n    <tr>\n      <th>2</th>\n      <td>2005 Pay (\u00a3)</td>\n      <td>383.2</td>\n    </tr>\n    <tr>\n      <th>3</th>\n      <td>2006 Pay (\u00a3)</td>\n      <td>390.9</td>\n    </tr>\n    <tr>\n      <th>4</th>\n      <td>2007 Pay (\u00a3)</td>\n      <td>390.8</td>\n    </tr>\n    <tr>\n      <th>5</th>\n      <td>2008 Pay (\u00a3)</td>\n      <td>403</td>\n    </tr>\n    <tr>\n      <th>6</th>\n      <td>2009 Pay (\u00a3)</td>\n      <td>421.6</td>\n    </tr>\n    <tr>\n      <th>7</th>\n      <td>2010 Pay (\u00a3)</td>\n      <td>422.4</td>\n    </tr>\n    <tr>\n      <th>8</th>\n      <td>2011 Pay (\u00a3)</td>\n      <td>382.5</td>\n    </tr>\n    <tr>\n      <th>9</th>\n      <td>2012 Pay (\u00a3)</td>\n      <td>369.8</td>\n    </tr>\n    <tr>\n      <th>10</th>\n      <td>2013 Pay (\u00a3)</td>\n      <td>387.6</td>\n    </tr>\n    <tr>\n      <th>11</th>\n      <td>2014 Pay (\u00a3)</td>\n      <td>393.7</td>\n    </tr>\n    <tr>\n      <th>12</th>\n      <td>2015 Pay (\u00a3)</td>\n      <td>421.6</td>\n    </tr>\n    <tr>\n      <th>13</th>\n      <td>2016 Pay (\u00a3)</td>\n      <td>436.7</td>\n    </tr>\n    <tr>\n      <th>14</th>\n      <td>2017 Pay (\u00a3)</td>\n      <td>471.3</td>\n    </tr>\n    <tr>\n      <th>15</th>\n      <td>2018 Pay (\u00a3)</td>\n      <td>479.1</td>\n    </tr>\n    <tr>\n      <th>16</th>\n      <td>2019 Pay (\u00a3)</td>\n      <td>517.1</td>\n    </tr>\n  </tbody>\n</table>\n</div>",
                        "text/plain": "Code          Year Earnings\n0     2003 Pay (\u00a3)    343.4\n1     2004 Pay (\u00a3)      371\n2     2005 Pay (\u00a3)    383.2\n3     2006 Pay (\u00a3)    390.9\n4     2007 Pay (\u00a3)    390.8\n5     2008 Pay (\u00a3)      403\n6     2009 Pay (\u00a3)    421.6\n7     2010 Pay (\u00a3)    422.4\n8     2011 Pay (\u00a3)    382.5\n9     2012 Pay (\u00a3)    369.8\n10    2013 Pay (\u00a3)    387.6\n11    2014 Pay (\u00a3)    393.7\n12    2015 Pay (\u00a3)    421.6\n13    2016 Pay (\u00a3)    436.7\n14    2017 Pay (\u00a3)    471.3\n15    2018 Pay (\u00a3)    479.1\n16    2019 Pay (\u00a3)    517.1"
                    },
                    "execution_count": 199,
                    "metadata": {},
                    "output_type": "execute_result"
                }
            ],
            "source": "new_earning.rename(columns={'index':'Year', '00BB':'Earnings'},inplace=True)\nnew_earning = new_earning.drop([0]).reset_index(drop=True)\nnew_earning"
        },
        {
            "cell_type": "markdown",
            "metadata": {},
            "source": "import visualization libraries "
        },
        {
            "cell_type": "code",
            "execution_count": 188,
            "metadata": {},
            "outputs": [],
            "source": "import matplotlib.pyplot as plt\nimport pandas as pd\nimport pylab as pl\nimport numpy as np\n%matplotlib inline"
        },
        {
            "cell_type": "code",
            "execution_count": 200,
            "metadata": {},
            "outputs": [],
            "source": "new_earning.Year=['2003', '2004','2005', '2006','2007','2008','2009','2010','2011','2012','2013','2014','2015','2016','2017','2018','2019']"
        },
        {
            "cell_type": "code",
            "execution_count": 201,
            "metadata": {},
            "outputs": [
                {
                    "data": {
                        "text/html": "<div>\n<style scoped>\n    .dataframe tbody tr th:only-of-type {\n        vertical-align: middle;\n    }\n\n    .dataframe tbody tr th {\n        vertical-align: top;\n    }\n\n    .dataframe thead th {\n        text-align: right;\n    }\n</style>\n<table border=\"1\" class=\"dataframe\">\n  <thead>\n    <tr style=\"text-align: right;\">\n      <th>Code</th>\n      <th>Year</th>\n      <th>Earnings</th>\n    </tr>\n  </thead>\n  <tbody>\n    <tr>\n      <th>0</th>\n      <td>2003</td>\n      <td>343.4</td>\n    </tr>\n    <tr>\n      <th>1</th>\n      <td>2004</td>\n      <td>371.0</td>\n    </tr>\n    <tr>\n      <th>2</th>\n      <td>2005</td>\n      <td>383.2</td>\n    </tr>\n    <tr>\n      <th>3</th>\n      <td>2006</td>\n      <td>390.9</td>\n    </tr>\n    <tr>\n      <th>4</th>\n      <td>2007</td>\n      <td>390.8</td>\n    </tr>\n  </tbody>\n</table>\n</div>",
                        "text/plain": "Code  Year  Earnings\n0     2003     343.4\n1     2004     371.0\n2     2005     383.2\n3     2006     390.9\n4     2007     390.8"
                    },
                    "execution_count": 201,
                    "metadata": {},
                    "output_type": "execute_result"
                }
            ],
            "source": "new_earnings = new_earning.apply(pd.to_numeric, errors='coerce')\nnew_earnings.head()\n"
        },
        {
            "cell_type": "code",
            "execution_count": 203,
            "metadata": {},
            "outputs": [
                {
                    "data": {
                        "text/plain": "Index(['Year', 'Earnings'], dtype='object', name='Code')"
                    },
                    "execution_count": 203,
                    "metadata": {},
                    "output_type": "execute_result"
                }
            ],
            "source": "new_earnings.columns"
        },
        {
            "cell_type": "code",
            "execution_count": 204,
            "metadata": {},
            "outputs": [],
            "source": "new_earnings.set_index('Year', inplace=True)\n"
        },
        {
            "cell_type": "markdown",
            "metadata": {},
            "source": "Line plot for weekly earning per year"
        },
        {
            "cell_type": "code",
            "execution_count": 205,
            "metadata": {},
            "outputs": [
                {
                    "data": {
                        "text/plain": "<function matplotlib.pyplot.show(*args, **kw)>"
                    },
                    "execution_count": 205,
                    "metadata": {},
                    "output_type": "execute_result"
                },
                {
                    "data": {
                        "image/png": "[encoded data removed]",
                        "text/plain": "<Figure size 432x288 with 1 Axes>"
                    },
                    "metadata": {
                        "needs_background": "light"
                    },
                    "output_type": "display_data"
                }
            ],
            "source": "new_earnings.plot()\nplt.title(\"Weeky Earning each year in Newham\")\n\nplt.show"
        },
        {
            "cell_type": "markdown",
            "metadata": {},
            "source": "# Segmenting / Clustering Neighborhoods of London"
        },
        {
            "cell_type": "markdown",
            "metadata": {},
            "source": "will start by importing the required libraries"
        },
        {
            "cell_type": "code",
            "execution_count": 207,
            "metadata": {},
            "outputs": [
                {
                    "name": "stdout",
                    "output_type": "stream",
                    "text": "Requirement already satisfied: beautifulsoup4 in /opt/conda/envs/Python36/lib/python3.6/site-packages (4.7.1)\nRequirement already satisfied: soupsieve>=1.2 in /opt/conda/envs/Python36/lib/python3.6/site-packages (from beautifulsoup4) (1.7.1)\nRequirement already satisfied: lxml in /opt/conda/envs/Python36/lib/python3.6/site-packages (4.3.1)\nCollecting requestsimport\n\u001b[31m  ERROR: Could not find a version that satisfies the requirement requestsimport (from versions: none)\u001b[0m\n\u001b[31mERROR: No matching distribution found for requestsimport\u001b[0m\nSolving environment: done\n\n## Package Plan ##\n\n  environment location: /opt/conda/envs/Python36\n\n  added / updated specs: \n    - geopy\n\n\nThe following packages will be downloaded:\n\n    package                    |            build\n    ---------------------------|-----------------\n    openssl-1.1.1g             |       h516909a_0         2.1 MB  conda-forge\n    geopy-1.21.0               |             py_0          58 KB  conda-forge\n    ca-certificates-2020.4.5.1 |       hecc5488_0         146 KB  conda-forge\n    certifi-2020.4.5.1         |   py36h9f0ad1d_0         151 KB  conda-forge\n    python_abi-3.6             |          1_cp36m           4 KB  conda-forge\n    geographiclib-1.50         |             py_0          34 KB  conda-forge\n    ------------------------------------------------------------\n                                           Total:         2.5 MB\n\nThe following NEW packages will be INSTALLED:\n\n    geographiclib:   1.50-py_0         conda-forge\n    geopy:           1.21.0-py_0       conda-forge\n    python_abi:      3.6-1_cp36m       conda-forge\n\nThe following packages will be UPDATED:\n\n    ca-certificates: 2020.1.1-0                    --> 2020.4.5.1-hecc5488_0     conda-forge\n    certifi:         2020.4.5.1-py36_0             --> 2020.4.5.1-py36h9f0ad1d_0 conda-forge\n    openssl:         1.1.1f-h7b6447c_0             --> 1.1.1g-h516909a_0         conda-forge\n\n\nDownloading and Extracting Packages\nopenssl-1.1.1g       | 2.1 MB    | ##################################### | 100% \ngeopy-1.21.0         | 58 KB     | ##################################### | 100% \nca-certificates-2020 | 146 KB    | ##################################### | 100% \ncertifi-2020.4.5.1   | 151 KB    | ##################################### | 100% \npython_abi-3.6       | 4 KB      | ##################################### | 100% \ngeographiclib-1.50   | 34 KB     | ##################################### | 100% \nPreparing transaction: done\nVerifying transaction: done\nExecuting transaction: done\nSolving environment: done\n\n## Package Plan ##\n\n  environment location: /opt/conda/envs/Python36\n\n  added / updated specs: \n    - folium=0.5.0\n\n\nThe following packages will be downloaded:\n\n    package                    |            build\n    ---------------------------|-----------------\n    branca-0.4.0               |             py_0          26 KB  conda-forge\n    altair-4.1.0               |             py_1         614 KB  conda-forge\n    vincent-0.4.4              |             py_1          28 KB  conda-forge\n    folium-0.5.0               |             py_0          45 KB  conda-forge\n    ------------------------------------------------------------\n                                           Total:         713 KB\n\nThe following NEW packages will be INSTALLED:\n\n    altair:  4.1.0-py_1 conda-forge\n    branca:  0.4.0-py_0 conda-forge\n    folium:  0.5.0-py_0 conda-forge\n    vincent: 0.4.4-py_1 conda-forge\n\n\nDownloading and Extracting Packages\nbranca-0.4.0         | 26 KB     | ##################################### | 100% \naltair-4.1.0         | 614 KB    | ##################################### | 100% \nvincent-0.4.4        | 28 KB     | ##################################### | 100% \nfolium-0.5.0         | 45 KB     | ##################################### | 100% \nPreparing transaction: done\nVerifying transaction: done\nExecuting transaction: done\n"
                }
            ],
            "source": "! pip install beautifulsoup4\n! pip install lxml\n! pip install requestsimport requests \nfrom bs4 import BeautifulSoup\nfrom urllib.request import urlopen\nimport re\nimport random # library for random number generation\n!conda install -c conda-forge geopy --yes \n\nfrom geopy.geocoders import Nominatim # module to convert an address into latitude and longitude values\n\n# libraries for displaying images\nfrom IPython.display import Image \n\n# tranforming json file into a pandas dataframe library\nfrom pandas.io.json import json_normalize\n\n!conda install -c conda-forge folium=0.5.0 --yes\nimport folium # plotting library\nfrom sklearn.cluster import KMeans\nimport matplotlib.cm as cm\nimport matplotlib.colors as colors"
        },
        {
            "cell_type": "markdown",
            "metadata": {},
            "source": "#### we will use beautifulsoup in order to exctract the coordinates of each boroughs from a wikipedia table"
        },
        {
            "cell_type": "code",
            "execution_count": 211,
            "metadata": {},
            "outputs": [],
            "source": "import requests\nWiki = \"https://en.wikipedia.org/wiki/List_of_London_boroughs\"\nres = requests.get(Wiki).text\nextracted = BeautifulSoup(res,'lxml')\n\ndf1 = []\nfor items in extracted.find('table', class_= 'wikitable sortable').find_all('tr')[1::]:\n    data = items.find_all(['td'])\n    data1 = data[0]\n    data8 = data[8]    \n    try:\n        borough_name = data1.get_text()\n        borough_name = borough_name.split('[')\n        borough_name = borough_name[0]\n        borough_name = borough_name.strip()\n        \n        ll = data8.get_text()\n        ll = ll.split('/')\n        lat_long = ll[2]\n        lat_long = lat_long.split('(')\n        lat_long = lat_long[0]\n        lat_long = lat_long.split(';')\n        latitude = lat_long[0]\n        latitude = latitude.strip()\n        longitude = lat_long[1]\n        longitude = longitude.strip()\n        longitude = longitude.replace(u'\\ufeff', '')\n        latitude = float(latitude)\n        longitude = float(longitude)\n\n#       Append \"borough_name, long. , lat.\" to a list\n        df1.append((borough_name, latitude, longitude))\n    except IndexError:pass"
        },
        {
            "cell_type": "markdown",
            "metadata": {},
            "source": "create DF for the bourough & will name the columns (DF2)"
        },
        {
            "cell_type": "code",
            "execution_count": 212,
            "metadata": {},
            "outputs": [],
            "source": "df2 = pd.DataFrame(df1, columns=['Borough', 'Latitude' , 'Longitude'])"
        },
        {
            "cell_type": "code",
            "execution_count": 213,
            "metadata": {},
            "outputs": [
                {
                    "data": {
                        "text/plain": "(32, 3)"
                    },
                    "execution_count": 213,
                    "metadata": {},
                    "output_type": "execute_result"
                }
            ],
            "source": "df2.shape"
        },
        {
            "cell_type": "code",
            "execution_count": 214,
            "metadata": {},
            "outputs": [
                {
                    "data": {
                        "text/html": "<div>\n<style scoped>\n    .dataframe tbody tr th:only-of-type {\n        vertical-align: middle;\n    }\n\n    .dataframe tbody tr th {\n        vertical-align: top;\n    }\n\n    .dataframe thead th {\n        text-align: right;\n    }\n</style>\n<table border=\"1\" class=\"dataframe\">\n  <thead>\n    <tr style=\"text-align: right;\">\n      <th></th>\n      <th>Borough</th>\n      <th>Latitude</th>\n      <th>Longitude</th>\n    </tr>\n  </thead>\n  <tbody>\n    <tr>\n      <th>0</th>\n      <td>Barking and Dagenham</td>\n      <td>51.5607</td>\n      <td>0.1557</td>\n    </tr>\n    <tr>\n      <th>1</th>\n      <td>Barnet</td>\n      <td>51.6252</td>\n      <td>-0.1517</td>\n    </tr>\n    <tr>\n      <th>2</th>\n      <td>Bexley</td>\n      <td>51.4549</td>\n      <td>0.1505</td>\n    </tr>\n    <tr>\n      <th>3</th>\n      <td>Brent</td>\n      <td>51.5588</td>\n      <td>-0.2817</td>\n    </tr>\n    <tr>\n      <th>4</th>\n      <td>Bromley</td>\n      <td>51.4039</td>\n      <td>0.0198</td>\n    </tr>\n  </tbody>\n</table>\n</div>",
                        "text/plain": "                Borough  Latitude  Longitude\n0  Barking and Dagenham   51.5607     0.1557\n1                Barnet   51.6252    -0.1517\n2                Bexley   51.4549     0.1505\n3                 Brent   51.5588    -0.2817\n4               Bromley   51.4039     0.0198"
                    },
                    "execution_count": 214,
                    "metadata": {},
                    "output_type": "execute_result"
                }
            ],
            "source": "df2.head()\n"
        },
        {
            "cell_type": "markdown",
            "metadata": {},
            "source": "Since we picked Newham in above sections , let's slice the DF to make it for Newham only"
        },
        {
            "cell_type": "code",
            "execution_count": 215,
            "metadata": {},
            "outputs": [
                {
                    "data": {
                        "text/html": "<div>\n<style scoped>\n    .dataframe tbody tr th:only-of-type {\n        vertical-align: middle;\n    }\n\n    .dataframe tbody tr th {\n        vertical-align: top;\n    }\n\n    .dataframe thead th {\n        text-align: right;\n    }\n</style>\n<table border=\"1\" class=\"dataframe\">\n  <thead>\n    <tr style=\"text-align: right;\">\n      <th></th>\n      <th>Borough</th>\n      <th>Latitude</th>\n      <th>Longitude</th>\n    </tr>\n  </thead>\n  <tbody>\n    <tr>\n      <th>23</th>\n      <td>Newham</td>\n      <td>51.5077</td>\n      <td>0.0469</td>\n    </tr>\n  </tbody>\n</table>\n</div>",
                        "text/plain": "   Borough  Latitude  Longitude\n23  Newham   51.5077     0.0469"
                    },
                    "execution_count": 215,
                    "metadata": {},
                    "output_type": "execute_result"
                }
            ],
            "source": "df2.loc[df2['Borough'] == 'Newham']"
        },
        {
            "cell_type": "markdown",
            "metadata": {},
            "source": "now will get the coordinates of london using geopy"
        },
        {
            "cell_type": "code",
            "execution_count": 216,
            "metadata": {},
            "outputs": [
                {
                    "name": "stderr",
                    "output_type": "stream",
                    "text": "/opt/conda/envs/Python36/lib/python3.6/site-packages/ipykernel/__main__.py:2: DeprecationWarning: Using Nominatim with the default \"geopy/1.21.0\" `user_agent` is strongly discouraged, as it violates Nominatim's ToS https://operations.osmfoundation.org/policies/nominatim/ and may possibly cause 403 and 429 HTTP errors. Please specify a custom `user_agent` with `Nominatim(user_agent=\"my-application\")` or by overriding the default `user_agent`: `geopy.geocoders.options.default_user_agent = \"my-application\"`. In geopy 2.0 this will become an exception.\n  from ipykernel import kernelapp as app\n"
                }
            ],
            "source": "address = 'London, UK'\ngeo_locator = Nominatim()\nlocation = geo_locator.geocode(address)\nlatitude = location.latitude\nlongitude = location.longitude"
        },
        {
            "cell_type": "code",
            "execution_count": 217,
            "metadata": {},
            "outputs": [
                {
                    "name": "stdout",
                    "output_type": "stream",
                    "text": "51.5073219 -0.1276474\n"
                }
            ],
            "source": "print (latitude , longitude)"
        },
        {
            "cell_type": "markdown",
            "metadata": {},
            "source": "will create a map of London with its Boroughs superimposed on top of it , along with makers"
        },
        {
            "cell_type": "code",
            "execution_count": 218,
            "metadata": {},
            "outputs": [
                {
                    "data": {
                        "text/html": "<div style=\"width:100%;\"><div style=\"position:relative;width:100%;height:0;padding-bottom:60%;\"><iframe src=\"about:blank\" style=\"position:absolute;width:100%;height:100%;left:0;top:0;border:none !important;\" data-html=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 onload=\"this.contentDocument.open();this.contentDocument.write(atob(this.getAttribute('data-html')));this.contentDocument.close();\" allowfullscreen webkitallowfullscreen mozallowfullscreen></iframe></div></div>",
                        "text/plain": "<folium.folium.Map at 0x7fe2e050b240>"
                    },
                    "execution_count": 218,
                    "metadata": {},
                    "output_type": "execute_result"
                }
            ],
            "source": "map_of_dondon = folium.Map(location=[latitude, longitude], zoom_start=10)\n\nfor lat, lng, borough in zip(df2['Latitude'], df2['Longitude'], df2['Borough']):\n    label = '{}'.format(borough)\n    label = folium.Popup(label, parse_html=True)\n    folium.CircleMarker(\n        [lat, lng],\n        radius=5,\n        popup=label,\n        color='blue',\n        fill=True,\n        fill_color='#3186cc',\nfill_opacity=0.7).add_to(map_of_dondon)  \nmap_of_dondon"
        },
        {
            "cell_type": "markdown",
            "metadata": {},
            "source": "### As the borough Newham is having high asian population, we will consider to Segment and Cluster only the neighbourhoods of this borough. \nlet's start by taking coordinates of of Newham borough (area),\nwe will use the same methodolody (beautiful soup to get it from wikipedia)"
        },
        {
            "cell_type": "code",
            "execution_count": 219,
            "metadata": {},
            "outputs": [],
            "source": "Wiki2 = \"https://en.wikipedia.org/wiki/List_of_areas_of_London\"\nres = requests.get(Wiki2).text\nsoup = BeautifulSoup(res,'lxml')\n\ncodes = []\nareas_list = []\nhref_links_list = []\nfor items in soup.find('table', class_= 'wikitable sortable').find_all('tr')[1::]:\n    data = items.find_all(['td'])\n    data0 = data[0]\n    area_name = data0.text\n\n    data1 = data[1]\n    data1 = data1.text\n    borough = data1.split('[')\n    borough_name = borough[0]\n    data5 = data[5]\n    code = data5.text\n    code = code.strip()\n    \n    if borough_name == 'Newham':\n        codes.append(code)\n        areas_list.append((borough_name,area_name,code))\n\n                \nfor link in soup.findAll('a', attrs={'href': re.compile(\"^https://tools.wmflabs.org\")}):\n            htext = link.text\n            if htext in codes:\n                hlink = link.get('href')\n                href_links_list.append((htext, hlink))"
        },
        {
            "cell_type": "markdown",
            "metadata": {},
            "source": "now we have list of areas & codes , will store it in DF3"
        },
        {
            "cell_type": "code",
            "execution_count": 220,
            "metadata": {},
            "outputs": [
                {
                    "data": {
                        "text/html": "<div>\n<style scoped>\n    .dataframe tbody tr th:only-of-type {\n        vertical-align: middle;\n    }\n\n    .dataframe tbody tr th {\n        vertical-align: top;\n    }\n\n    .dataframe thead th {\n        text-align: right;\n    }\n</style>\n<table border=\"1\" class=\"dataframe\">\n  <thead>\n    <tr style=\"text-align: right;\">\n      <th></th>\n      <th>Borough</th>\n      <th>Area</th>\n      <th>Code</th>\n    </tr>\n  </thead>\n  <tbody>\n    <tr>\n      <th>0</th>\n      <td>Newham</td>\n      <td>Beckton</td>\n      <td>TQ435815</td>\n    </tr>\n    <tr>\n      <th>1</th>\n      <td>Newham</td>\n      <td>Canning Town</td>\n      <td>TQ405815</td>\n    </tr>\n    <tr>\n      <th>2</th>\n      <td>Newham</td>\n      <td>Custom House</td>\n      <td>TQ408807</td>\n    </tr>\n    <tr>\n      <th>3</th>\n      <td>Newham</td>\n      <td>East Ham</td>\n      <td>TQ425835</td>\n    </tr>\n    <tr>\n      <th>4</th>\n      <td>Newham</td>\n      <td>Forest Gate</td>\n      <td>TQ405855</td>\n    </tr>\n  </tbody>\n</table>\n</div>",
                        "text/plain": "  Borough          Area      Code\n0  Newham       Beckton  TQ435815\n1  Newham  Canning Town  TQ405815\n2  Newham  Custom House  TQ408807\n3  Newham      East Ham  TQ425835\n4  Newham   Forest Gate  TQ405855"
                    },
                    "execution_count": 220,
                    "metadata": {},
                    "output_type": "execute_result"
                }
            ],
            "source": "df3 = pd.DataFrame(areas_list, columns=['Borough', 'Area', 'Code'])\ndf3.head()\n"
        },
        {
            "cell_type": "code",
            "execution_count": 221,
            "metadata": {},
            "outputs": [
                {
                    "data": {
                        "text/plain": "Index(['Borough', 'Area', 'Code'], dtype='object')"
                    },
                    "execution_count": 221,
                    "metadata": {},
                    "output_type": "execute_result"
                }
            ],
            "source": "df3.columns"
        },
        {
            "cell_type": "code",
            "execution_count": 222,
            "metadata": {},
            "outputs": [
                {
                    "data": {
                        "text/plain": "(14, 3)"
                    },
                    "execution_count": 222,
                    "metadata": {},
                    "output_type": "execute_result"
                }
            ],
            "source": "df3.shape\n"
        },
        {
            "cell_type": "markdown",
            "metadata": {},
            "source": "We will create a seperate dataframe for the list of href links (DF4)"
        },
        {
            "cell_type": "code",
            "execution_count": 223,
            "metadata": {},
            "outputs": [
                {
                    "data": {
                        "text/plain": "Index(['Code', 'href'], dtype='object')"
                    },
                    "execution_count": 223,
                    "metadata": {},
                    "output_type": "execute_result"
                }
            ],
            "source": "df4 = pd.DataFrame(href_links_list, columns=['Code','href'])\ndf4.columns"
        },
        {
            "cell_type": "code",
            "execution_count": 224,
            "metadata": {},
            "outputs": [
                {
                    "data": {
                        "text/plain": "(15, 2)"
                    },
                    "execution_count": 224,
                    "metadata": {},
                    "output_type": "execute_result"
                }
            ],
            "source": "df4.shape \n"
        },
        {
            "cell_type": "code",
            "execution_count": 225,
            "metadata": {},
            "outputs": [
                {
                    "data": {
                        "text/html": "<div>\n<style scoped>\n    .dataframe tbody tr th:only-of-type {\n        vertical-align: middle;\n    }\n\n    .dataframe tbody tr th {\n        vertical-align: top;\n    }\n\n    .dataframe thead th {\n        text-align: right;\n    }\n</style>\n<table border=\"1\" class=\"dataframe\">\n  <thead>\n    <tr style=\"text-align: right;\">\n      <th></th>\n      <th>Code</th>\n      <th>href</th>\n    </tr>\n  </thead>\n  <tbody>\n    <tr>\n      <th>0</th>\n      <td>TQ435815</td>\n      <td>https://tools.wmflabs.org/geohack/en/51.514205...</td>\n    </tr>\n    <tr>\n      <th>1</th>\n      <td>TQ405815</td>\n      <td>https://tools.wmflabs.org/geohack/en/51.514959...</td>\n    </tr>\n    <tr>\n      <th>2</th>\n      <td>TQ408807</td>\n      <td>https://tools.wmflabs.org/geohack/en/51.507695...</td>\n    </tr>\n    <tr>\n      <th>3</th>\n      <td>TQ425835</td>\n      <td>https://tools.wmflabs.org/geohack/en/51.532429...</td>\n    </tr>\n    <tr>\n      <th>4</th>\n      <td>TQ405855</td>\n      <td>https://tools.wmflabs.org/geohack/en/51.550902...</td>\n    </tr>\n    <tr>\n      <th>5</th>\n      <td>TQ435855</td>\n      <td>https://tools.wmflabs.org/geohack/en/51.550147...</td>\n    </tr>\n    <tr>\n      <th>6</th>\n      <td>TQ425855</td>\n      <td>https://tools.wmflabs.org/geohack/en/51.550401...</td>\n    </tr>\n    <tr>\n      <th>7</th>\n      <td>TQ391849</td>\n      <td>https://tools.wmflabs.org/geohack/en/51.545857...</td>\n    </tr>\n    <tr>\n      <th>8</th>\n      <td>TQ435795</td>\n      <td>https://tools.wmflabs.org/geohack/en/51.496234...</td>\n    </tr>\n    <tr>\n      <th>9</th>\n      <td>TQ405825</td>\n      <td>https://tools.wmflabs.org/geohack/en/51.523944...</td>\n    </tr>\n    <tr>\n      <th>10</th>\n      <td>TQ415795</td>\n      <td>https://tools.wmflabs.org/geohack/en/51.496738...</td>\n    </tr>\n    <tr>\n      <th>11</th>\n      <td>TQ385845</td>\n      <td>https://tools.wmflabs.org/geohack/en/51.542410...</td>\n    </tr>\n    <tr>\n      <th>12</th>\n      <td>TQ405837</td>\n      <td>https://tools.wmflabs.org/geohack/en/51.534727...</td>\n    </tr>\n    <tr>\n      <th>13</th>\n      <td>TQ405837</td>\n      <td>https://tools.wmflabs.org/geohack/en/51.534727...</td>\n    </tr>\n    <tr>\n      <th>14</th>\n      <td>TQ435795</td>\n      <td>https://tools.wmflabs.org/geohack/en/51.496234...</td>\n    </tr>\n  </tbody>\n</table>\n</div>",
                        "text/plain": "        Code                                               href\n0   TQ435815  https://tools.wmflabs.org/geohack/en/51.514205...\n1   TQ405815  https://tools.wmflabs.org/geohack/en/51.514959...\n2   TQ408807  https://tools.wmflabs.org/geohack/en/51.507695...\n3   TQ425835  https://tools.wmflabs.org/geohack/en/51.532429...\n4   TQ405855  https://tools.wmflabs.org/geohack/en/51.550902...\n5   TQ435855  https://tools.wmflabs.org/geohack/en/51.550147...\n6   TQ425855  https://tools.wmflabs.org/geohack/en/51.550401...\n7   TQ391849  https://tools.wmflabs.org/geohack/en/51.545857...\n8   TQ435795  https://tools.wmflabs.org/geohack/en/51.496234...\n9   TQ405825  https://tools.wmflabs.org/geohack/en/51.523944...\n10  TQ415795  https://tools.wmflabs.org/geohack/en/51.496738...\n11  TQ385845  https://tools.wmflabs.org/geohack/en/51.542410...\n12  TQ405837  https://tools.wmflabs.org/geohack/en/51.534727...\n13  TQ405837  https://tools.wmflabs.org/geohack/en/51.534727...\n14  TQ435795  https://tools.wmflabs.org/geohack/en/51.496234..."
                    },
                    "execution_count": 225,
                    "metadata": {},
                    "output_type": "execute_result"
                }
            ],
            "source": "df4"
        },
        {
            "cell_type": "markdown",
            "metadata": {},
            "source": "merge  Areas and href Links DFs as a new datafram (DF5)"
        },
        {
            "cell_type": "code",
            "execution_count": 226,
            "metadata": {},
            "outputs": [
                {
                    "data": {
                        "text/plain": "Index(['href'], dtype='object')"
                    },
                    "execution_count": 226,
                    "metadata": {},
                    "output_type": "execute_result"
                }
            ],
            "source": "colm = df4.columns.difference(df3.columns)\ncolm\n"
        },
        {
            "cell_type": "code",
            "execution_count": 227,
            "metadata": {},
            "outputs": [],
            "source": "df5 = pd.concat([df3, df4[colm]], axis=1)\n"
        },
        {
            "cell_type": "code",
            "execution_count": 228,
            "metadata": {},
            "outputs": [
                {
                    "data": {
                        "text/plain": "(15, 4)"
                    },
                    "execution_count": 228,
                    "metadata": {},
                    "output_type": "execute_result"
                }
            ],
            "source": "df5.shape\n"
        },
        {
            "cell_type": "code",
            "execution_count": 229,
            "metadata": {},
            "outputs": [
                {
                    "data": {
                        "text/html": "<div>\n<style scoped>\n    .dataframe tbody tr th:only-of-type {\n        vertical-align: middle;\n    }\n\n    .dataframe tbody tr th {\n        vertical-align: top;\n    }\n\n    .dataframe thead th {\n        text-align: right;\n    }\n</style>\n<table border=\"1\" class=\"dataframe\">\n  <thead>\n    <tr style=\"text-align: right;\">\n      <th></th>\n      <th>Borough</th>\n      <th>Area</th>\n      <th>Code</th>\n      <th>href</th>\n    </tr>\n  </thead>\n  <tbody>\n    <tr>\n      <th>0</th>\n      <td>Newham</td>\n      <td>Beckton</td>\n      <td>TQ435815</td>\n      <td>https://tools.wmflabs.org/geohack/en/51.514205...</td>\n    </tr>\n    <tr>\n      <th>1</th>\n      <td>Newham</td>\n      <td>Canning Town</td>\n      <td>TQ405815</td>\n      <td>https://tools.wmflabs.org/geohack/en/51.514959...</td>\n    </tr>\n    <tr>\n      <th>2</th>\n      <td>Newham</td>\n      <td>Custom House</td>\n      <td>TQ408807</td>\n      <td>https://tools.wmflabs.org/geohack/en/51.507695...</td>\n    </tr>\n    <tr>\n      <th>3</th>\n      <td>Newham</td>\n      <td>East Ham</td>\n      <td>TQ425835</td>\n      <td>https://tools.wmflabs.org/geohack/en/51.532429...</td>\n    </tr>\n    <tr>\n      <th>4</th>\n      <td>Newham</td>\n      <td>Forest Gate</td>\n      <td>TQ405855</td>\n      <td>https://tools.wmflabs.org/geohack/en/51.550902...</td>\n    </tr>\n    <tr>\n      <th>5</th>\n      <td>Newham</td>\n      <td>Little Ilford</td>\n      <td>TQ435855</td>\n      <td>https://tools.wmflabs.org/geohack/en/51.550147...</td>\n    </tr>\n    <tr>\n      <th>6</th>\n      <td>Newham</td>\n      <td>Manor Park</td>\n      <td>TQ425855</td>\n      <td>https://tools.wmflabs.org/geohack/en/51.550401...</td>\n    </tr>\n    <tr>\n      <th>7</th>\n      <td>Newham</td>\n      <td>Maryland</td>\n      <td>TQ391849</td>\n      <td>https://tools.wmflabs.org/geohack/en/51.545857...</td>\n    </tr>\n    <tr>\n      <th>8</th>\n      <td>Newham</td>\n      <td>North Woolwich</td>\n      <td>TQ435795</td>\n      <td>https://tools.wmflabs.org/geohack/en/51.496234...</td>\n    </tr>\n    <tr>\n      <th>9</th>\n      <td>Newham</td>\n      <td>Plaistow</td>\n      <td>TQ405825</td>\n      <td>https://tools.wmflabs.org/geohack/en/51.523944...</td>\n    </tr>\n    <tr>\n      <th>10</th>\n      <td>Newham</td>\n      <td>Silvertown</td>\n      <td>TQ415795</td>\n      <td>https://tools.wmflabs.org/geohack/en/51.496738...</td>\n    </tr>\n    <tr>\n      <th>11</th>\n      <td>Newham</td>\n      <td>Stratford</td>\n      <td>TQ385845</td>\n      <td>https://tools.wmflabs.org/geohack/en/51.542410...</td>\n    </tr>\n    <tr>\n      <th>12</th>\n      <td>Newham</td>\n      <td>Upton Park</td>\n      <td>TQ405837</td>\n      <td>https://tools.wmflabs.org/geohack/en/51.534727...</td>\n    </tr>\n    <tr>\n      <th>13</th>\n      <td>Newham</td>\n      <td>West Ham</td>\n      <td>TQ405837</td>\n      <td>https://tools.wmflabs.org/geohack/en/51.534727...</td>\n    </tr>\n    <tr>\n      <th>14</th>\n      <td>NaN</td>\n      <td>NaN</td>\n      <td>NaN</td>\n      <td>https://tools.wmflabs.org/geohack/en/51.496234...</td>\n    </tr>\n  </tbody>\n</table>\n</div>",
                        "text/plain": "   Borough            Area      Code  \\\n0   Newham         Beckton  TQ435815   \n1   Newham    Canning Town  TQ405815   \n2   Newham    Custom House  TQ408807   \n3   Newham        East Ham  TQ425835   \n4   Newham     Forest Gate  TQ405855   \n5   Newham   Little Ilford  TQ435855   \n6   Newham      Manor Park  TQ425855   \n7   Newham        Maryland  TQ391849   \n8   Newham  North Woolwich  TQ435795   \n9   Newham        Plaistow  TQ405825   \n10  Newham      Silvertown  TQ415795   \n11  Newham       Stratford  TQ385845   \n12  Newham      Upton Park  TQ405837   \n13  Newham        West Ham  TQ405837   \n14     NaN             NaN       NaN   \n\n                                                 href  \n0   https://tools.wmflabs.org/geohack/en/51.514205...  \n1   https://tools.wmflabs.org/geohack/en/51.514959...  \n2   https://tools.wmflabs.org/geohack/en/51.507695...  \n3   https://tools.wmflabs.org/geohack/en/51.532429...  \n4   https://tools.wmflabs.org/geohack/en/51.550902...  \n5   https://tools.wmflabs.org/geohack/en/51.550147...  \n6   https://tools.wmflabs.org/geohack/en/51.550401...  \n7   https://tools.wmflabs.org/geohack/en/51.545857...  \n8   https://tools.wmflabs.org/geohack/en/51.496234...  \n9   https://tools.wmflabs.org/geohack/en/51.523944...  \n10  https://tools.wmflabs.org/geohack/en/51.496738...  \n11  https://tools.wmflabs.org/geohack/en/51.542410...  \n12  https://tools.wmflabs.org/geohack/en/51.534727...  \n13  https://tools.wmflabs.org/geohack/en/51.534727...  \n14  https://tools.wmflabs.org/geohack/en/51.496234...  "
                    },
                    "execution_count": 229,
                    "metadata": {},
                    "output_type": "execute_result"
                }
            ],
            "source": "df5"
        },
        {
            "cell_type": "markdown",
            "metadata": {},
            "source": "Cleaning the data"
        },
        {
            "cell_type": "code",
            "execution_count": 230,
            "metadata": {},
            "outputs": [
                {
                    "data": {
                        "text/html": "<div>\n<style scoped>\n    .dataframe tbody tr th:only-of-type {\n        vertical-align: middle;\n    }\n\n    .dataframe tbody tr th {\n        vertical-align: top;\n    }\n\n    .dataframe thead th {\n        text-align: right;\n    }\n</style>\n<table border=\"1\" class=\"dataframe\">\n  <thead>\n    <tr style=\"text-align: right;\">\n      <th></th>\n      <th>Borough</th>\n      <th>Area</th>\n      <th>Code</th>\n      <th>href</th>\n    </tr>\n  </thead>\n  <tbody>\n    <tr>\n      <th>0</th>\n      <td>Newham</td>\n      <td>Beckton</td>\n      <td>TQ435815</td>\n      <td>https://tools.wmflabs.org/geohack/en/51.514205...</td>\n    </tr>\n    <tr>\n      <th>1</th>\n      <td>Newham</td>\n      <td>Canning Town</td>\n      <td>TQ405815</td>\n      <td>https://tools.wmflabs.org/geohack/en/51.514959...</td>\n    </tr>\n    <tr>\n      <th>2</th>\n      <td>Newham</td>\n      <td>Custom House</td>\n      <td>TQ408807</td>\n      <td>https://tools.wmflabs.org/geohack/en/51.507695...</td>\n    </tr>\n    <tr>\n      <th>3</th>\n      <td>Newham</td>\n      <td>East Ham</td>\n      <td>TQ425835</td>\n      <td>https://tools.wmflabs.org/geohack/en/51.532429...</td>\n    </tr>\n    <tr>\n      <th>4</th>\n      <td>Newham</td>\n      <td>Forest Gate</td>\n      <td>TQ405855</td>\n      <td>https://tools.wmflabs.org/geohack/en/51.550902...</td>\n    </tr>\n    <tr>\n      <th>5</th>\n      <td>Newham</td>\n      <td>Little Ilford</td>\n      <td>TQ435855</td>\n      <td>https://tools.wmflabs.org/geohack/en/51.550147...</td>\n    </tr>\n    <tr>\n      <th>6</th>\n      <td>Newham</td>\n      <td>Manor Park</td>\n      <td>TQ425855</td>\n      <td>https://tools.wmflabs.org/geohack/en/51.550401...</td>\n    </tr>\n    <tr>\n      <th>7</th>\n      <td>Newham</td>\n      <td>Maryland</td>\n      <td>TQ391849</td>\n      <td>https://tools.wmflabs.org/geohack/en/51.545857...</td>\n    </tr>\n    <tr>\n      <th>8</th>\n      <td>Newham</td>\n      <td>North Woolwich</td>\n      <td>TQ435795</td>\n      <td>https://tools.wmflabs.org/geohack/en/51.496234...</td>\n    </tr>\n    <tr>\n      <th>9</th>\n      <td>Newham</td>\n      <td>Plaistow</td>\n      <td>TQ405825</td>\n      <td>https://tools.wmflabs.org/geohack/en/51.523944...</td>\n    </tr>\n    <tr>\n      <th>10</th>\n      <td>Newham</td>\n      <td>Silvertown</td>\n      <td>TQ415795</td>\n      <td>https://tools.wmflabs.org/geohack/en/51.496738...</td>\n    </tr>\n    <tr>\n      <th>11</th>\n      <td>Newham</td>\n      <td>Stratford</td>\n      <td>TQ385845</td>\n      <td>https://tools.wmflabs.org/geohack/en/51.542410...</td>\n    </tr>\n    <tr>\n      <th>12</th>\n      <td>Newham</td>\n      <td>Upton Park</td>\n      <td>TQ405837</td>\n      <td>https://tools.wmflabs.org/geohack/en/51.534727...</td>\n    </tr>\n    <tr>\n      <th>13</th>\n      <td>Newham</td>\n      <td>West Ham</td>\n      <td>TQ405837</td>\n      <td>https://tools.wmflabs.org/geohack/en/51.534727...</td>\n    </tr>\n  </tbody>\n</table>\n</div>",
                        "text/plain": "   Borough            Area      Code  \\\n0   Newham         Beckton  TQ435815   \n1   Newham    Canning Town  TQ405815   \n2   Newham    Custom House  TQ408807   \n3   Newham        East Ham  TQ425835   \n4   Newham     Forest Gate  TQ405855   \n5   Newham   Little Ilford  TQ435855   \n6   Newham      Manor Park  TQ425855   \n7   Newham        Maryland  TQ391849   \n8   Newham  North Woolwich  TQ435795   \n9   Newham        Plaistow  TQ405825   \n10  Newham      Silvertown  TQ415795   \n11  Newham       Stratford  TQ385845   \n12  Newham      Upton Park  TQ405837   \n13  Newham        West Ham  TQ405837   \n\n                                                 href  \n0   https://tools.wmflabs.org/geohack/en/51.514205...  \n1   https://tools.wmflabs.org/geohack/en/51.514959...  \n2   https://tools.wmflabs.org/geohack/en/51.507695...  \n3   https://tools.wmflabs.org/geohack/en/51.532429...  \n4   https://tools.wmflabs.org/geohack/en/51.550902...  \n5   https://tools.wmflabs.org/geohack/en/51.550147...  \n6   https://tools.wmflabs.org/geohack/en/51.550401...  \n7   https://tools.wmflabs.org/geohack/en/51.545857...  \n8   https://tools.wmflabs.org/geohack/en/51.496234...  \n9   https://tools.wmflabs.org/geohack/en/51.523944...  \n10  https://tools.wmflabs.org/geohack/en/51.496738...  \n11  https://tools.wmflabs.org/geohack/en/51.542410...  \n12  https://tools.wmflabs.org/geohack/en/51.534727...  \n13  https://tools.wmflabs.org/geohack/en/51.534727...  "
                    },
                    "execution_count": 230,
                    "metadata": {},
                    "output_type": "execute_result"
                }
            ],
            "source": "df5 = df5.dropna(how='any')\ndf5"
        },
        {
            "cell_type": "markdown",
            "metadata": {},
            "source": "Get the geo co-ordinates for all the areas in  Newham"
        },
        {
            "cell_type": "code",
            "execution_count": 231,
            "metadata": {},
            "outputs": [
                {
                    "name": "stdout",
                    "output_type": "stream",
                    "text": "[('TQ435815', 51.514206, 0.066634), ('TQ405815', 51.514959, 0.023429), ('TQ408807', 51.507696, 0.027431), ('TQ425835', 51.53243, 0.053041), ('TQ405855', 51.550902, 0.025024), ('TQ435855', 51.550148, 0.068263), ('TQ425855', 51.550401, 0.05385), ('TQ391849', 51.545857, 0.004608), ('TQ435795', 51.496234, 0.065821), ('TQ405825', 51.523945, 0.023828), ('TQ415795', 51.496738, 0.037029), ('TQ385845', 51.54241, -0.004196), ('TQ405837', 51.534728, 0.024306), ('TQ405837', 51.534728, 0.024306)]\n"
                }
            ],
            "source": "geo_codes = []\nfor row in df5.itertuples():\n    url = row.href\n    code = row.Code\n    res = requests.get(url).text\n    soup1 = BeautifulSoup(res,'lxml')\n    \n    for lat in soup1.find('span',{'class':'latitude'}):\n        latitude = lat\n        latitude = float(latitude)\n            \n    for long in soup1.find('span',{'class':'longitude'}):    \n        longitude = long\n        longitude = float(longitude)\n        \n    geo_codes.append((code, latitude, longitude))\n\nprint(geo_codes)"
        },
        {
            "cell_type": "markdown",
            "metadata": {},
            "source": "convert above to a dataframe (df6)"
        },
        {
            "cell_type": "code",
            "execution_count": 232,
            "metadata": {},
            "outputs": [
                {
                    "data": {
                        "text/html": "<div>\n<style scoped>\n    .dataframe tbody tr th:only-of-type {\n        vertical-align: middle;\n    }\n\n    .dataframe tbody tr th {\n        vertical-align: top;\n    }\n\n    .dataframe thead th {\n        text-align: right;\n    }\n</style>\n<table border=\"1\" class=\"dataframe\">\n  <thead>\n    <tr style=\"text-align: right;\">\n      <th></th>\n      <th>Code</th>\n      <th>Latitude</th>\n      <th>Longitude</th>\n    </tr>\n  </thead>\n  <tbody>\n    <tr>\n      <th>0</th>\n      <td>TQ435815</td>\n      <td>51.514206</td>\n      <td>0.066634</td>\n    </tr>\n    <tr>\n      <th>1</th>\n      <td>TQ405815</td>\n      <td>51.514959</td>\n      <td>0.023429</td>\n    </tr>\n    <tr>\n      <th>2</th>\n      <td>TQ408807</td>\n      <td>51.507696</td>\n      <td>0.027431</td>\n    </tr>\n    <tr>\n      <th>3</th>\n      <td>TQ425835</td>\n      <td>51.532430</td>\n      <td>0.053041</td>\n    </tr>\n    <tr>\n      <th>4</th>\n      <td>TQ405855</td>\n      <td>51.550902</td>\n      <td>0.025024</td>\n    </tr>\n    <tr>\n      <th>5</th>\n      <td>TQ435855</td>\n      <td>51.550148</td>\n      <td>0.068263</td>\n    </tr>\n    <tr>\n      <th>6</th>\n      <td>TQ425855</td>\n      <td>51.550401</td>\n      <td>0.053850</td>\n    </tr>\n    <tr>\n      <th>7</th>\n      <td>TQ391849</td>\n      <td>51.545857</td>\n      <td>0.004608</td>\n    </tr>\n    <tr>\n      <th>8</th>\n      <td>TQ435795</td>\n      <td>51.496234</td>\n      <td>0.065821</td>\n    </tr>\n    <tr>\n      <th>9</th>\n      <td>TQ405825</td>\n      <td>51.523945</td>\n      <td>0.023828</td>\n    </tr>\n    <tr>\n      <th>10</th>\n      <td>TQ415795</td>\n      <td>51.496738</td>\n      <td>0.037029</td>\n    </tr>\n    <tr>\n      <th>11</th>\n      <td>TQ385845</td>\n      <td>51.542410</td>\n      <td>-0.004196</td>\n    </tr>\n    <tr>\n      <th>12</th>\n      <td>TQ405837</td>\n      <td>51.534728</td>\n      <td>0.024306</td>\n    </tr>\n    <tr>\n      <th>13</th>\n      <td>TQ405837</td>\n      <td>51.534728</td>\n      <td>0.024306</td>\n    </tr>\n  </tbody>\n</table>\n</div>",
                        "text/plain": "        Code   Latitude  Longitude\n0   TQ435815  51.514206   0.066634\n1   TQ405815  51.514959   0.023429\n2   TQ408807  51.507696   0.027431\n3   TQ425835  51.532430   0.053041\n4   TQ405855  51.550902   0.025024\n5   TQ435855  51.550148   0.068263\n6   TQ425855  51.550401   0.053850\n7   TQ391849  51.545857   0.004608\n8   TQ435795  51.496234   0.065821\n9   TQ405825  51.523945   0.023828\n10  TQ415795  51.496738   0.037029\n11  TQ385845  51.542410  -0.004196\n12  TQ405837  51.534728   0.024306\n13  TQ405837  51.534728   0.024306"
                    },
                    "execution_count": 232,
                    "metadata": {},
                    "output_type": "execute_result"
                }
            ],
            "source": "df6 = pd.DataFrame(geo_codes, columns=['Code','Latitude','Longitude'])\ndf6"
        },
        {
            "cell_type": "markdown",
            "metadata": {},
            "source": "merge the Neighborhoods and Geocodes DFs (df7)"
        },
        {
            "cell_type": "code",
            "execution_count": 233,
            "metadata": {},
            "outputs": [
                {
                    "data": {
                        "text/plain": "Index(['Borough', 'Area', 'Code'], dtype='object')"
                    },
                    "execution_count": 233,
                    "metadata": {},
                    "output_type": "execute_result"
                }
            ],
            "source": "df3.columns\n"
        },
        {
            "cell_type": "code",
            "execution_count": 234,
            "metadata": {},
            "outputs": [
                {
                    "data": {
                        "text/plain": "(14, 3)"
                    },
                    "execution_count": 234,
                    "metadata": {},
                    "output_type": "execute_result"
                }
            ],
            "source": "df3.shape\n"
        },
        {
            "cell_type": "code",
            "execution_count": 235,
            "metadata": {},
            "outputs": [
                {
                    "data": {
                        "text/plain": "Index(['Code', 'Latitude', 'Longitude'], dtype='object')"
                    },
                    "execution_count": 235,
                    "metadata": {},
                    "output_type": "execute_result"
                }
            ],
            "source": "df6.columns\n"
        },
        {
            "cell_type": "code",
            "execution_count": 236,
            "metadata": {},
            "outputs": [
                {
                    "data": {
                        "text/plain": "Index(['Latitude', 'Longitude'], dtype='object')"
                    },
                    "execution_count": 236,
                    "metadata": {},
                    "output_type": "execute_result"
                }
            ],
            "source": "colm = df6.columns.difference(df3.columns)\ncolm"
        },
        {
            "cell_type": "code",
            "execution_count": 237,
            "metadata": {},
            "outputs": [
                {
                    "data": {
                        "text/html": "<div>\n<style scoped>\n    .dataframe tbody tr th:only-of-type {\n        vertical-align: middle;\n    }\n\n    .dataframe tbody tr th {\n        vertical-align: top;\n    }\n\n    .dataframe thead th {\n        text-align: right;\n    }\n</style>\n<table border=\"1\" class=\"dataframe\">\n  <thead>\n    <tr style=\"text-align: right;\">\n      <th></th>\n      <th>Borough</th>\n      <th>Area</th>\n      <th>Code</th>\n      <th>Latitude</th>\n      <th>Longitude</th>\n    </tr>\n  </thead>\n  <tbody>\n    <tr>\n      <th>0</th>\n      <td>Newham</td>\n      <td>Beckton</td>\n      <td>TQ435815</td>\n      <td>51.514206</td>\n      <td>0.066634</td>\n    </tr>\n    <tr>\n      <th>1</th>\n      <td>Newham</td>\n      <td>Canning Town</td>\n      <td>TQ405815</td>\n      <td>51.514959</td>\n      <td>0.023429</td>\n    </tr>\n    <tr>\n      <th>2</th>\n      <td>Newham</td>\n      <td>Custom House</td>\n      <td>TQ408807</td>\n      <td>51.507696</td>\n      <td>0.027431</td>\n    </tr>\n    <tr>\n      <th>3</th>\n      <td>Newham</td>\n      <td>East Ham</td>\n      <td>TQ425835</td>\n      <td>51.532430</td>\n      <td>0.053041</td>\n    </tr>\n    <tr>\n      <th>4</th>\n      <td>Newham</td>\n      <td>Forest Gate</td>\n      <td>TQ405855</td>\n      <td>51.550902</td>\n      <td>0.025024</td>\n    </tr>\n    <tr>\n      <th>5</th>\n      <td>Newham</td>\n      <td>Little Ilford</td>\n      <td>TQ435855</td>\n      <td>51.550148</td>\n      <td>0.068263</td>\n    </tr>\n    <tr>\n      <th>6</th>\n      <td>Newham</td>\n      <td>Manor Park</td>\n      <td>TQ425855</td>\n      <td>51.550401</td>\n      <td>0.053850</td>\n    </tr>\n    <tr>\n      <th>7</th>\n      <td>Newham</td>\n      <td>Maryland</td>\n      <td>TQ391849</td>\n      <td>51.545857</td>\n      <td>0.004608</td>\n    </tr>\n    <tr>\n      <th>8</th>\n      <td>Newham</td>\n      <td>North Woolwich</td>\n      <td>TQ435795</td>\n      <td>51.496234</td>\n      <td>0.065821</td>\n    </tr>\n    <tr>\n      <th>9</th>\n      <td>Newham</td>\n      <td>Plaistow</td>\n      <td>TQ405825</td>\n      <td>51.523945</td>\n      <td>0.023828</td>\n    </tr>\n    <tr>\n      <th>10</th>\n      <td>Newham</td>\n      <td>Silvertown</td>\n      <td>TQ415795</td>\n      <td>51.496738</td>\n      <td>0.037029</td>\n    </tr>\n    <tr>\n      <th>11</th>\n      <td>Newham</td>\n      <td>Stratford</td>\n      <td>TQ385845</td>\n      <td>51.542410</td>\n      <td>-0.004196</td>\n    </tr>\n    <tr>\n      <th>12</th>\n      <td>Newham</td>\n      <td>Upton Park</td>\n      <td>TQ405837</td>\n      <td>51.534728</td>\n      <td>0.024306</td>\n    </tr>\n    <tr>\n      <th>13</th>\n      <td>Newham</td>\n      <td>West Ham</td>\n      <td>TQ405837</td>\n      <td>51.534728</td>\n      <td>0.024306</td>\n    </tr>\n  </tbody>\n</table>\n</div>",
                        "text/plain": "   Borough            Area      Code   Latitude  Longitude\n0   Newham         Beckton  TQ435815  51.514206   0.066634\n1   Newham    Canning Town  TQ405815  51.514959   0.023429\n2   Newham    Custom House  TQ408807  51.507696   0.027431\n3   Newham        East Ham  TQ425835  51.532430   0.053041\n4   Newham     Forest Gate  TQ405855  51.550902   0.025024\n5   Newham   Little Ilford  TQ435855  51.550148   0.068263\n6   Newham      Manor Park  TQ425855  51.550401   0.053850\n7   Newham        Maryland  TQ391849  51.545857   0.004608\n8   Newham  North Woolwich  TQ435795  51.496234   0.065821\n9   Newham        Plaistow  TQ405825  51.523945   0.023828\n10  Newham      Silvertown  TQ415795  51.496738   0.037029\n11  Newham       Stratford  TQ385845  51.542410  -0.004196\n12  Newham      Upton Park  TQ405837  51.534728   0.024306\n13  Newham        West Ham  TQ405837  51.534728   0.024306"
                    },
                    "execution_count": 237,
                    "metadata": {},
                    "output_type": "execute_result"
                }
            ],
            "source": "df7 = pd.concat([df3, df6[colm]], axis=1)\n\ndf7"
        },
        {
            "cell_type": "markdown",
            "metadata": {},
            "source": "Clean the data"
        },
        {
            "cell_type": "code",
            "execution_count": 238,
            "metadata": {},
            "outputs": [],
            "source": "df7 = df7.rename(columns={'Area' :'Neighborhood'})\n"
        },
        {
            "cell_type": "code",
            "execution_count": 239,
            "metadata": {},
            "outputs": [
                {
                    "data": {
                        "text/html": "<div>\n<style scoped>\n    .dataframe tbody tr th:only-of-type {\n        vertical-align: middle;\n    }\n\n    .dataframe tbody tr th {\n        vertical-align: top;\n    }\n\n    .dataframe thead th {\n        text-align: right;\n    }\n</style>\n<table border=\"1\" class=\"dataframe\">\n  <thead>\n    <tr style=\"text-align: right;\">\n      <th></th>\n      <th>Borough</th>\n      <th>Neighborhood</th>\n      <th>Latitude</th>\n      <th>Longitude</th>\n    </tr>\n  </thead>\n  <tbody>\n    <tr>\n      <th>0</th>\n      <td>Newham</td>\n      <td>Beckton</td>\n      <td>51.514206</td>\n      <td>0.066634</td>\n    </tr>\n    <tr>\n      <th>1</th>\n      <td>Newham</td>\n      <td>Canning Town</td>\n      <td>51.514959</td>\n      <td>0.023429</td>\n    </tr>\n    <tr>\n      <th>2</th>\n      <td>Newham</td>\n      <td>Custom House</td>\n      <td>51.507696</td>\n      <td>0.027431</td>\n    </tr>\n    <tr>\n      <th>3</th>\n      <td>Newham</td>\n      <td>East Ham</td>\n      <td>51.532430</td>\n      <td>0.053041</td>\n    </tr>\n    <tr>\n      <th>4</th>\n      <td>Newham</td>\n      <td>Forest Gate</td>\n      <td>51.550902</td>\n      <td>0.025024</td>\n    </tr>\n    <tr>\n      <th>5</th>\n      <td>Newham</td>\n      <td>Little Ilford</td>\n      <td>51.550148</td>\n      <td>0.068263</td>\n    </tr>\n    <tr>\n      <th>6</th>\n      <td>Newham</td>\n      <td>Manor Park</td>\n      <td>51.550401</td>\n      <td>0.053850</td>\n    </tr>\n    <tr>\n      <th>7</th>\n      <td>Newham</td>\n      <td>Maryland</td>\n      <td>51.545857</td>\n      <td>0.004608</td>\n    </tr>\n    <tr>\n      <th>8</th>\n      <td>Newham</td>\n      <td>North Woolwich</td>\n      <td>51.496234</td>\n      <td>0.065821</td>\n    </tr>\n    <tr>\n      <th>9</th>\n      <td>Newham</td>\n      <td>Plaistow</td>\n      <td>51.523945</td>\n      <td>0.023828</td>\n    </tr>\n    <tr>\n      <th>10</th>\n      <td>Newham</td>\n      <td>Silvertown</td>\n      <td>51.496738</td>\n      <td>0.037029</td>\n    </tr>\n    <tr>\n      <th>11</th>\n      <td>Newham</td>\n      <td>Stratford</td>\n      <td>51.542410</td>\n      <td>-0.004196</td>\n    </tr>\n    <tr>\n      <th>12</th>\n      <td>Newham</td>\n      <td>Upton Park</td>\n      <td>51.534728</td>\n      <td>0.024306</td>\n    </tr>\n    <tr>\n      <th>13</th>\n      <td>Newham</td>\n      <td>West Ham</td>\n      <td>51.534728</td>\n      <td>0.024306</td>\n    </tr>\n  </tbody>\n</table>\n</div>",
                        "text/plain": "   Borough    Neighborhood   Latitude  Longitude\n0   Newham         Beckton  51.514206   0.066634\n1   Newham    Canning Town  51.514959   0.023429\n2   Newham    Custom House  51.507696   0.027431\n3   Newham        East Ham  51.532430   0.053041\n4   Newham     Forest Gate  51.550902   0.025024\n5   Newham   Little Ilford  51.550148   0.068263\n6   Newham      Manor Park  51.550401   0.053850\n7   Newham        Maryland  51.545857   0.004608\n8   Newham  North Woolwich  51.496234   0.065821\n9   Newham        Plaistow  51.523945   0.023828\n10  Newham      Silvertown  51.496738   0.037029\n11  Newham       Stratford  51.542410  -0.004196\n12  Newham      Upton Park  51.534728   0.024306\n13  Newham        West Ham  51.534728   0.024306"
                    },
                    "execution_count": 239,
                    "metadata": {},
                    "output_type": "execute_result"
                }
            ],
            "source": "df7.drop(['Code'], axis=1, inplace=True)\ndf7"
        },
        {
            "cell_type": "markdown",
            "metadata": {},
            "source": "Now lets get the Coordinates of Newham"
        },
        {
            "cell_type": "code",
            "execution_count": 240,
            "metadata": {},
            "outputs": [
                {
                    "name": "stderr",
                    "output_type": "stream",
                    "text": "/opt/conda/envs/Python36/lib/python3.6/site-packages/ipykernel/__main__.py:3: DeprecationWarning: Using Nominatim with the default \"geopy/1.21.0\" `user_agent` is strongly discouraged, as it violates Nominatim's ToS https://operations.osmfoundation.org/policies/nominatim/ and may possibly cause 403 and 429 HTTP errors. Please specify a custom `user_agent` with `Nominatim(user_agent=\"my-application\")` or by overriding the default `user_agent`: `geopy.geocoders.options.default_user_agent = \"my-application\"`. In geopy 2.0 this will become an exception.\n  app.launch_new_instance()\n"
                }
            ],
            "source": "address = 'Newham, London'\n\ngeolocator = Nominatim()\nlocation = geolocator.geocode(address)\nlatitude = location.latitude\nlongitude = location.longitude"
        },
        {
            "cell_type": "code",
            "execution_count": 241,
            "metadata": {},
            "outputs": [
                {
                    "name": "stdout",
                    "output_type": "stream",
                    "text": "51.52999955 0.02931796029382208\n"
                }
            ],
            "source": "print (latitude, longitude)"
        },
        {
            "cell_type": "markdown",
            "metadata": {},
            "source": "Let's Visualize the Neighborhoods by creating the map & adding markers on top of them"
        },
        {
            "cell_type": "code",
            "execution_count": 242,
            "metadata": {
                "scrolled": true
            },
            "outputs": [
                {
                    "data": {
                        "text/html": "<div style=\"width:100%;\"><div style=\"position:relative;width:100%;height:0;padding-bottom:60%;\"><iframe src=\"about:blank\" style=\"position:absolute;width:100%;height:100%;left:0;top:0;border:none !important;\" data-html=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 onload=\"this.contentDocument.open();this.contentDocument.write(atob(this.getAttribute('data-html')));this.contentDocument.close();\" allowfullscreen webkitallowfullscreen mozallowfullscreen></iframe></div></div>",
                        "text/plain": "<folium.folium.Map at 0x7fe2c6c8a668>"
                    },
                    "execution_count": 242,
                    "metadata": {},
                    "output_type": "execute_result"
                }
            ],
            "source": "Newham = folium.Map(location=[latitude, longitude], zoom_start=11)\n\nfor lat, lng, label in zip(df7['Latitude'], df7['Longitude'], df7['Neighborhood']):\n    label = folium.Popup(label, parse_html=True)\n    folium.CircleMarker(\n        [lat, lng],\n        radius=5,\n        popup=label,\n        color='blue',\n        fill=True,\n        fill_color='#3186cc',\n        fill_opacity=0.7).add_to(Newham)  \n    \nNewham"
        },
        {
            "cell_type": "markdown",
            "metadata": {},
            "source": "# Using Foursquare"
        },
        {
            "cell_type": "markdown",
            "metadata": {},
            "source": "### Let's Visualize the Neighborhoods of Newham Borough"
        },
        {
            "cell_type": "markdown",
            "metadata": {},
            "source": "check our final DF"
        },
        {
            "cell_type": "code",
            "execution_count": 246,
            "metadata": {
                "scrolled": true
            },
            "outputs": [
                {
                    "data": {
                        "text/plain": "(14, 4)"
                    },
                    "execution_count": 246,
                    "metadata": {},
                    "output_type": "execute_result"
                }
            ],
            "source": "df7.shape"
        },
        {
            "cell_type": "code",
            "execution_count": 247,
            "metadata": {},
            "outputs": [
                {
                    "data": {
                        "text/plain": "Index(['Borough', 'Neighborhood', 'Latitude', 'Longitude'], dtype='object')"
                    },
                    "execution_count": 247,
                    "metadata": {},
                    "output_type": "execute_result"
                }
            ],
            "source": "df7.columns"
        },
        {
            "cell_type": "code",
            "execution_count": 248,
            "metadata": {},
            "outputs": [
                {
                    "data": {
                        "text/plain": "'Beckton'"
                    },
                    "execution_count": 248,
                    "metadata": {},
                    "output_type": "execute_result"
                }
            ],
            "source": "df7.loc[0, 'Neighborhood']"
        },
        {
            "cell_type": "code",
            "execution_count": 249,
            "metadata": {},
            "outputs": [
                {
                    "data": {
                        "text/plain": "Borough           Newham\nNeighborhood     Beckton\nLatitude         51.5142\nLongitude       0.066634\nName: 0, dtype: object"
                    },
                    "execution_count": 249,
                    "metadata": {},
                    "output_type": "execute_result"
                }
            ],
            "source": "df7.loc[0]"
        },
        {
            "cell_type": "code",
            "execution_count": 250,
            "metadata": {},
            "outputs": [],
            "source": "#Get the Neighborhood's latitude and longitude value"
        },
        {
            "cell_type": "code",
            "execution_count": 253,
            "metadata": {},
            "outputs": [
                {
                    "name": "stdout",
                    "output_type": "stream",
                    "text": "51.514206 0.066634\n"
                }
            ],
            "source": "n_latitude = df7.loc[0, 'Latitude']\nn_longitude = df7.loc[0, 'Longitude']\n\nprint(n_latitude,n_longitude)"
        },
        {
            "cell_type": "markdown",
            "metadata": {},
            "source": "### Now get the top 100 places of Newham Neighborhood within 500KM radius"
        },
        {
            "cell_type": "markdown",
            "metadata": {},
            "source": "Create the GET request URL"
        },
        {
            "cell_type": "code",
            "execution_count": 298,
            "metadata": {},
            "outputs": [],
            "source": "#belwo code will be hidden by IBM since it containts my foursquare credintials"
        },
        {
            "cell_type": "code",
            "execution_count": 297,
            "metadata": {},
            "outputs": [],
            "source": "# The code was removed by Watson Studio for sharing."
        },
        {
            "cell_type": "code",
            "execution_count": 255,
            "metadata": {},
            "outputs": [
                {
                    "data": {
                        "text/plain": "'https://api.foursquare.com/v2/venues/explore?&client_id=AOB4TEHMBBJTVU1LLN4IJLQEUL2EYG3LIXJYAQEAVCJCH5WA&client_secret=       JLN12OF3RLK1QIICATFYPQW5AZRMMUUXBMJMPZ5XEE1CYAQH&v=20180604&ll=51.514206,0.066634&radius=500&limit=100'"
                    },
                    "execution_count": 255,
                    "metadata": {},
                    "output_type": "execute_result"
                }
            ],
            "source": "url = 'https://api.foursquare.com/v2/venues/explore?&client_id={}&client_secret=\\\n       {}&v={}&ll={},{}&radius={}&limit={}'.format(\n    CLIENT_ID, \n    CLIENT_SECRET, \n    VERSION, \n    n_latitude, \n    n_longitude, \n    radius, \n    LIMIT)\nurl"
        },
        {
            "cell_type": "markdown",
            "metadata": {},
            "source": "save it to json"
        },
        {
            "cell_type": "code",
            "execution_count": 256,
            "metadata": {},
            "outputs": [
                {
                    "data": {
                        "text/plain": "{'meta': {'code': 200, 'requestId': '5eab1830e826ac2d0d3a2227'},\n 'response': {'suggestedFilters': {'header': 'Tap to show:',\n   'filters': [{'name': 'Open now', 'key': 'openNow'}]},\n  'headerLocation': 'Beckton',\n  'headerFullLocation': 'Beckton, London',\n  'headerLocationGranularity': 'neighborhood',\n  'totalResults': 9,\n  'suggestedBounds': {'ne': {'lat': 51.518706004500004,\n    'lng': 0.07385150597103936},\n   'sw': {'lat': 51.5097059955, 'lng': 0.05941649402896063}},\n  'groups': [{'type': 'Recommended Places',\n    'name': 'recommended',\n    'items': [{'reasons': {'count': 0,\n       'items': [{'summary': 'This spot is popular',\n         'type': 'general',\n         'reasonName': 'globalInteractionReason'}]},\n      'venue': {'id': '4e0c524018a89ad010688d2b',\n       'name': 'East london Gymnastics Club',\n       'location': {'lat': 51.514106774737556,\n        'lng': 0.060155068624099396,\n        'labeledLatLngs': [{'label': 'display',\n          'lat': 51.514106774737556,\n          'lng': 0.060155068624099396}],\n        'distance': 448,\n        'cc': 'GB',\n        'city': 'East Ham',\n        'state': 'Greater London',\n        'country': 'United Kingdom',\n        'formattedAddress': ['East Ham', 'Greater London', 'United Kingdom']},\n       'categories': [{'id': '4bf58dd8d48988d175941735',\n         'name': 'Gym / Fitness Center',\n         'pluralName': 'Gyms or Fitness Centers',\n         'shortName': 'Gym / Fitness',\n         'icon': {'prefix': 'https://ss3.4sqi.net/img/categories_v2/building/gym_',\n          'suffix': '.png'},\n         'primary': True}],\n       'photos': {'count': 0, 'groups': []}},\n      'referralId': 'e-0-4e0c524018a89ad010688d2b-0'},\n     {'reasons': {'count': 0,\n       'items': [{'summary': 'This spot is popular',\n         'type': 'general',\n         'reasonName': 'globalInteractionReason'}]},\n      'venue': {'id': '52cecf5711d25db28fc70b17',\n       'name': 'Home Bargains',\n       'location': {'address': 'Alpine Way',\n        'lat': 51.51680527454938,\n        'lng': 0.06280401308506929,\n        'labeledLatLngs': [{'label': 'display',\n          'lat': 51.51680527454938,\n          'lng': 0.06280401308506929}],\n        'distance': 392,\n        'cc': 'GB',\n        'city': 'London',\n        'state': 'Greater London',\n        'country': 'United Kingdom',\n        'formattedAddress': ['Alpine Way',\n         'London',\n         'Greater London',\n         'United Kingdom']},\n       'categories': [{'id': '52dea92d3cf9994f4e043dbb',\n         'name': 'Discount Store',\n         'pluralName': 'Discount Stores',\n         'shortName': 'Discount Store',\n         'icon': {'prefix': 'https://ss3.4sqi.net/img/categories_v2/shops/discountstore_',\n          'suffix': '.png'},\n         'primary': True}],\n       'photos': {'count': 0, 'groups': []}},\n      'referralId': 'e-0-52cecf5711d25db28fc70b17-1'},\n     {'reasons': {'count': 0,\n       'items': [{'summary': 'This spot is popular',\n         'type': 'general',\n         'reasonName': 'globalInteractionReason'}]},\n      'venue': {'id': '4cd462e4886cb60c1bcb7d89',\n       'name': 'Lituanica',\n       'location': {'address': 'Alpine Way (Unit 4C, Beckton Retail Park)',\n        'lat': 51.51644209755886,\n        'lng': 0.06292681188810904,\n        'labeledLatLngs': [{'label': 'display',\n          'lat': 51.51644209755886,\n          'lng': 0.06292681188810904}],\n        'distance': 357,\n        'postalCode': 'E6 6LA',\n        'cc': 'GB',\n        'city': 'London',\n        'state': 'Greater London',\n        'country': 'United Kingdom',\n        'formattedAddress': ['Alpine Way (Unit 4C, Beckton Retail Park)',\n         'London',\n         'Greater London',\n         'E6 6LA',\n         'United Kingdom']},\n       'categories': [{'id': '4bf58dd8d48988d118951735',\n         'name': 'Grocery Store',\n         'pluralName': 'Grocery Stores',\n         'shortName': 'Grocery Store',\n         'icon': {'prefix': 'https://ss3.4sqi.net/img/categories_v2/shops/food_grocery_',\n          'suffix': '.png'},\n         'primary': True}],\n       'photos': {'count': 0, 'groups': []}},\n      'referralId': 'e-0-4cd462e4886cb60c1bcb7d89-2'},\n     {'reasons': {'count': 0,\n       'items': [{'summary': 'This spot is popular',\n         'type': 'general',\n         'reasonName': 'globalInteractionReason'}]},\n      'venue': {'id': '4bbed90a98f4952177d8d163',\n       'name': 'Premier Inn London Beckton',\n       'location': {'address': '1 Woolwich Manor Way, Beckton',\n        'crossStreet': '1 Woolwich Manor Way',\n        'lat': 51.5151148,\n        'lng': 0.0610161,\n        'labeledLatLngs': [{'label': 'display',\n          'lat': 51.5151148,\n          'lng': 0.0610161}],\n        'distance': 402,\n        'postalCode': 'E6 5NT',\n        'cc': 'GB',\n        'city': 'London',\n        'country': 'United Kingdom',\n        'formattedAddress': ['1 Woolwich Manor Way, Beckton (1 Woolwich Manor Way)',\n         'London',\n         'E6 5NT',\n         'United Kingdom']},\n       'categories': [{'id': '4bf58dd8d48988d1fa931735',\n         'name': 'Hotel',\n         'pluralName': 'Hotels',\n         'shortName': 'Hotel',\n         'icon': {'prefix': 'https://ss3.4sqi.net/img/categories_v2/travel/hotel_',\n          'suffix': '.png'},\n         'primary': True}],\n       'photos': {'count': 0, 'groups': []}},\n      'referralId': 'e-0-4bbed90a98f4952177d8d163-3'},\n     {'reasons': {'count': 0,\n       'items': [{'summary': 'This spot is popular',\n         'type': 'general',\n         'reasonName': 'globalInteractionReason'}]},\n      'venue': {'id': '50228c58e4b057124f4b1b58',\n       'name': 'Matalan',\n       'location': {'address': '8 Alpine Way',\n        'lat': 51.5160037,\n        'lng': 0.0626349,\n        'labeledLatLngs': [{'label': 'display',\n          'lat': 51.5160037,\n          'lng': 0.0626349}],\n        'distance': 341,\n        'postalCode': 'E6 6LA',\n        'cc': 'GB',\n        'city': 'Beckton',\n        'state': 'Greater London',\n        'country': 'United Kingdom',\n        'formattedAddress': ['8 Alpine Way',\n         'Beckton',\n         'Greater London',\n         'E6 6LA',\n         'United Kingdom']},\n       'categories': [{'id': '4bf58dd8d48988d103951735',\n         'name': 'Clothing Store',\n         'pluralName': 'Clothing Stores',\n         'shortName': 'Apparel',\n         'icon': {'prefix': 'https://ss3.4sqi.net/img/categories_v2/shops/apparel_',\n          'suffix': '.png'},\n         'primary': True}],\n       'photos': {'count': 0, 'groups': []},\n       'venuePage': {'id': '538715972'}},\n      'referralId': 'e-0-50228c58e4b057124f4b1b58-4'},\n     {'reasons': {'count': 0,\n       'items': [{'summary': 'This spot is popular',\n         'type': 'general',\n         'reasonName': 'globalInteractionReason'}]},\n      'venue': {'id': '4bf69e4cbfeac92898a19436',\n       'name': 'Beckton DLR Station',\n       'location': {'address': 'Woolwich Manor Way',\n        'lat': 51.51436463106562,\n        'lng': 0.061460137367248535,\n        'labeledLatLngs': [{'label': 'display',\n          'lat': 51.51436463106562,\n          'lng': 0.061460137367248535}],\n        'distance': 358,\n        'postalCode': 'E6 5NT',\n        'cc': 'GB',\n        'city': 'Beckton',\n        'state': 'Greater London',\n        'country': 'United Kingdom',\n        'formattedAddress': ['Woolwich Manor Way',\n         'Beckton',\n         'Greater London',\n         'E6 5NT',\n         'United Kingdom']},\n       'categories': [{'id': '4bf58dd8d48988d1fc931735',\n         'name': 'Light Rail Station',\n         'pluralName': 'Light Rail Stations',\n         'shortName': 'Light Rail',\n         'icon': {'prefix': 'https://ss3.4sqi.net/img/categories_v2/travel/lightrail_',\n          'suffix': '.png'},\n         'primary': True}],\n       'photos': {'count': 0, 'groups': []}},\n      'referralId': 'e-0-4bf69e4cbfeac92898a19436-5'},\n     {'reasons': {'count': 0,\n       'items': [{'summary': 'This spot is popular',\n         'type': 'general',\n         'reasonName': 'globalInteractionReason'}]},\n      'venue': {'id': '4f942748e4b04c0c9f9862d0',\n       'name': 'Dreams',\n       'location': {'address': 'Beckton Retail Park, Alpine Way, Beckton',\n        'lat': 51.5163666,\n        'lng': 0.0627099,\n        'labeledLatLngs': [{'label': 'display',\n          'lat': 51.5163666,\n          'lng': 0.0627099}],\n        'distance': 362,\n        'postalCode': 'E6 6LA',\n        'cc': 'GB',\n        'city': 'Beckton',\n        'state': 'Greater London',\n        'country': 'United Kingdom',\n        'formattedAddress': ['Beckton Retail Park, Alpine Way, Beckton',\n         'Beckton',\n         'Greater London',\n         'E6 6LA',\n         'United Kingdom']},\n       'categories': [{'id': '4bf58dd8d48988d1f8941735',\n         'name': 'Furniture / Home Store',\n         'pluralName': 'Furniture / Home Stores',\n         'shortName': 'Furniture / Home',\n         'icon': {'prefix': 'https://ss3.4sqi.net/img/categories_v2/shops/furniture_',\n          'suffix': '.png'},\n         'primary': True}],\n       'photos': {'count': 0, 'groups': []}},\n      'referralId': 'e-0-4f942748e4b04c0c9f9862d0-6'},\n     {'reasons': {'count': 0,\n       'items': [{'summary': 'This spot is popular',\n         'type': 'general',\n         'reasonName': 'globalInteractionReason'}]},\n      'venue': {'id': '4c07fc177e3fc928ea98ef82',\n       'name': 'Brewers Fayre',\n       'location': {'address': '1 Woolwich Manor Way',\n        'lat': 51.51481196163808,\n        'lng': 0.06086126705726321,\n        'labeledLatLngs': [{'label': 'display',\n          'lat': 51.51481196163808,\n          'lng': 0.06086126705726321}],\n        'distance': 405,\n        'postalCode': 'E6 5NT',\n        'cc': 'GB',\n        'city': 'Beckton',\n        'state': 'Greater London',\n        'country': 'United Kingdom',\n        'formattedAddress': ['1 Woolwich Manor Way',\n         'Beckton',\n         'Greater London',\n         'E6 5NT',\n         'United Kingdom']},\n       'categories': [{'id': '4bf58dd8d48988d11b941735',\n         'name': 'Pub',\n         'pluralName': 'Pubs',\n         'shortName': 'Pub',\n         'icon': {'prefix': 'https://ss3.4sqi.net/img/categories_v2/nightlife/pub_',\n          'suffix': '.png'},\n         'primary': True}],\n       'photos': {'count': 0, 'groups': []}},\n      'referralId': 'e-0-4c07fc177e3fc928ea98ef82-7'},\n     {'reasons': {'count': 0,\n       'items': [{'summary': 'This spot is popular',\n         'type': 'general',\n         'reasonName': 'globalInteractionReason'}]},\n      'venue': {'id': '4cee7f6d0acea35d33ebe9ae',\n       'name': 'Beckton Retail Park',\n       'location': {'address': '9 Alpine Way',\n        'lat': 51.517122,\n        'lng': 0.062234,\n        'labeledLatLngs': [{'label': 'display',\n          'lat': 51.517122,\n          'lng': 0.062234}],\n        'distance': 445,\n        'postalCode': 'E6 6LA',\n        'cc': 'GB',\n        'city': 'Beckton',\n        'state': 'Greater London',\n        'country': 'United Kingdom',\n        'formattedAddress': ['9 Alpine Way',\n         'Beckton',\n         'Greater London',\n         'E6 6LA',\n         'United Kingdom']},\n       'categories': [{'id': '5744ccdfe4b0c0459246b4dc',\n         'name': 'Shopping Plaza',\n         'pluralName': 'Shopping Plazas',\n         'shortName': 'Shopping Plaza',\n         'icon': {'prefix': 'https://ss3.4sqi.net/img/categories_v2/shops/mall_',\n          'suffix': '.png'},\n         'primary': True}],\n       'photos': {'count': 0, 'groups': []}},\n      'referralId': 'e-0-4cee7f6d0acea35d33ebe9ae-8'}]}]}}"
                    },
                    "execution_count": 256,
                    "metadata": {},
                    "output_type": "execute_result"
                }
            ],
            "source": "results = requests.get(url).json()\nresults"
        },
        {
            "cell_type": "markdown",
            "metadata": {},
            "source": "Extract the Categories of the Venues"
        },
        {
            "cell_type": "code",
            "execution_count": 257,
            "metadata": {},
            "outputs": [],
            "source": "def get_category_type(row):\n    try:\n        categories_list = row['categories']\n    except:\n        categories_list = row['venue.categories']\n        \n    if len(categories_list) == 0:\n        return None\n    else:\n        return categories_list[0]['name']"
        },
        {
            "cell_type": "markdown",
            "metadata": {},
            "source": "### let's start cleaning the json and structure it into a df"
        },
        {
            "cell_type": "code",
            "execution_count": 258,
            "metadata": {},
            "outputs": [
                {
                    "data": {
                        "text/html": "<div>\n<style scoped>\n    .dataframe tbody tr th:only-of-type {\n        vertical-align: middle;\n    }\n\n    .dataframe tbody tr th {\n        vertical-align: top;\n    }\n\n    .dataframe thead th {\n        text-align: right;\n    }\n</style>\n<table border=\"1\" class=\"dataframe\">\n  <thead>\n    <tr style=\"text-align: right;\">\n      <th></th>\n      <th>name</th>\n      <th>categories</th>\n      <th>lat</th>\n      <th>lng</th>\n    </tr>\n  </thead>\n  <tbody>\n    <tr>\n      <th>0</th>\n      <td>East london Gymnastics Club</td>\n      <td>Gym / Fitness Center</td>\n      <td>51.514107</td>\n      <td>0.060155</td>\n    </tr>\n    <tr>\n      <th>1</th>\n      <td>Home Bargains</td>\n      <td>Discount Store</td>\n      <td>51.516805</td>\n      <td>0.062804</td>\n    </tr>\n    <tr>\n      <th>2</th>\n      <td>Lituanica</td>\n      <td>Grocery Store</td>\n      <td>51.516442</td>\n      <td>0.062927</td>\n    </tr>\n    <tr>\n      <th>3</th>\n      <td>Premier Inn London Beckton</td>\n      <td>Hotel</td>\n      <td>51.515115</td>\n      <td>0.061016</td>\n    </tr>\n    <tr>\n      <th>4</th>\n      <td>Matalan</td>\n      <td>Clothing Store</td>\n      <td>51.516004</td>\n      <td>0.062635</td>\n    </tr>\n  </tbody>\n</table>\n</div>",
                        "text/plain": "                          name            categories        lat       lng\n0  East london Gymnastics Club  Gym / Fitness Center  51.514107  0.060155\n1                Home Bargains        Discount Store  51.516805  0.062804\n2                    Lituanica         Grocery Store  51.516442  0.062927\n3   Premier Inn London Beckton                 Hotel  51.515115  0.061016\n4                      Matalan        Clothing Store  51.516004  0.062635"
                    },
                    "execution_count": 258,
                    "metadata": {},
                    "output_type": "execute_result"
                }
            ],
            "source": "results = requests.get(url).json()\n\nvenues = results['response']['groups'][0]['items']\nnearby = json_normalize(venues) # flatten JSON\n\nfiltered_columns = ['venue.name', 'venue.categories', 'venue.location.lat', 'venue.location.lng']\nnearby =nearby.loc[:, filtered_columns]\n\nnearby['venue.categories'] = nearby.apply(get_category_type, axis=1)\n\nnearby.columns = [col.split(\".\")[-1] for col in nearby.columns]\nnearby.head()"
        },
        {
            "cell_type": "markdown",
            "metadata": {},
            "source": "check the DF (nearby)"
        },
        {
            "cell_type": "code",
            "execution_count": 259,
            "metadata": {
                "scrolled": true
            },
            "outputs": [
                {
                    "data": {
                        "text/html": "<div>\n<style scoped>\n    .dataframe tbody tr th:only-of-type {\n        vertical-align: middle;\n    }\n\n    .dataframe tbody tr th {\n        vertical-align: top;\n    }\n\n    .dataframe thead th {\n        text-align: right;\n    }\n</style>\n<table border=\"1\" class=\"dataframe\">\n  <thead>\n    <tr style=\"text-align: right;\">\n      <th></th>\n      <th>name</th>\n      <th>categories</th>\n      <th>lat</th>\n      <th>lng</th>\n    </tr>\n  </thead>\n  <tbody>\n    <tr>\n      <th>0</th>\n      <td>East london Gymnastics Club</td>\n      <td>Gym / Fitness Center</td>\n      <td>51.514107</td>\n      <td>0.060155</td>\n    </tr>\n    <tr>\n      <th>1</th>\n      <td>Home Bargains</td>\n      <td>Discount Store</td>\n      <td>51.516805</td>\n      <td>0.062804</td>\n    </tr>\n    <tr>\n      <th>2</th>\n      <td>Lituanica</td>\n      <td>Grocery Store</td>\n      <td>51.516442</td>\n      <td>0.062927</td>\n    </tr>\n    <tr>\n      <th>3</th>\n      <td>Premier Inn London Beckton</td>\n      <td>Hotel</td>\n      <td>51.515115</td>\n      <td>0.061016</td>\n    </tr>\n    <tr>\n      <th>4</th>\n      <td>Matalan</td>\n      <td>Clothing Store</td>\n      <td>51.516004</td>\n      <td>0.062635</td>\n    </tr>\n    <tr>\n      <th>5</th>\n      <td>Beckton DLR Station</td>\n      <td>Light Rail Station</td>\n      <td>51.514365</td>\n      <td>0.061460</td>\n    </tr>\n    <tr>\n      <th>6</th>\n      <td>Dreams</td>\n      <td>Furniture / Home Store</td>\n      <td>51.516367</td>\n      <td>0.062710</td>\n    </tr>\n    <tr>\n      <th>7</th>\n      <td>Brewers Fayre</td>\n      <td>Pub</td>\n      <td>51.514812</td>\n      <td>0.060861</td>\n    </tr>\n    <tr>\n      <th>8</th>\n      <td>Beckton Retail Park</td>\n      <td>Shopping Plaza</td>\n      <td>51.517122</td>\n      <td>0.062234</td>\n    </tr>\n  </tbody>\n</table>\n</div>",
                        "text/plain": "                          name              categories        lat       lng\n0  East london Gymnastics Club    Gym / Fitness Center  51.514107  0.060155\n1                Home Bargains          Discount Store  51.516805  0.062804\n2                    Lituanica           Grocery Store  51.516442  0.062927\n3   Premier Inn London Beckton                   Hotel  51.515115  0.061016\n4                      Matalan          Clothing Store  51.516004  0.062635\n5          Beckton DLR Station      Light Rail Station  51.514365  0.061460\n6                       Dreams  Furniture / Home Store  51.516367  0.062710\n7                Brewers Fayre                     Pub  51.514812  0.060861\n8          Beckton Retail Park          Shopping Plaza  51.517122  0.062234"
                    },
                    "execution_count": 259,
                    "metadata": {},
                    "output_type": "execute_result"
                }
            ],
            "source": "nearby"
        },
        {
            "cell_type": "code",
            "execution_count": 260,
            "metadata": {},
            "outputs": [
                {
                    "data": {
                        "text/plain": "(9, 4)"
                    },
                    "execution_count": 260,
                    "metadata": {},
                    "output_type": "execute_result"
                }
            ],
            "source": "nearby.shape"
        },
        {
            "cell_type": "code",
            "execution_count": 261,
            "metadata": {},
            "outputs": [
                {
                    "data": {
                        "text/plain": "Beckton Retail Park            1\nEast london Gymnastics Club    1\nBrewers Fayre                  1\nPremier Inn London Beckton     1\nMatalan                        1\nDreams                         1\nHome Bargains                  1\nBeckton DLR Station            1\nLituanica                      1\nName: name, dtype: int64"
                    },
                    "execution_count": 261,
                    "metadata": {},
                    "output_type": "execute_result"
                }
            ],
            "source": "nearby['name'].value_counts()"
        },
        {
            "cell_type": "code",
            "execution_count": 262,
            "metadata": {},
            "outputs": [
                {
                    "data": {
                        "text/plain": "9"
                    },
                    "execution_count": 262,
                    "metadata": {},
                    "output_type": "execute_result"
                }
            ],
            "source": "nearby.shape[0]"
        },
        {
            "cell_type": "markdown",
            "metadata": {},
            "source": "# Exploring Neighborhoods in Newham"
        },
        {
            "cell_type": "markdown",
            "metadata": {},
            "source": "will start by creating  API request URL, make the GET request & return only relevant information for each nearby venue\n"
        },
        {
            "cell_type": "code",
            "execution_count": 265,
            "metadata": {},
            "outputs": [],
            "source": "def getNearby(names, latitudes, longitudes, radius=500):\n    venues_list=[]\n    for name, lat, lng in zip(names, latitudes, longitudes):\n        \n        url = 'https://api.foursquare.com/v2/venues/explore?&client_id={}&client_secret={}&v={}&ll={},{}&radius={}&limit={}'.format(\n            CLIENT_ID, CLIENT_SECRET, \n            VERSION, lat, lng, radius, LIMIT)\n            \n        results = requests.get(url).json()[\"response\"]['groups'][0]['items']\n        \n        venues_list.append([(\n            name, lat, lng, \n            v['venue']['name'], \n            v['venue']['location']['lat'], \n            v['venue']['location']['lng'],  \n            v['venue']['categories'][0]['name']) for v in results])\n\n    nearby = pd.DataFrame([item for venue_list in venues_list for item in venue_list])\n    nearby.columns = ['Neighborhood', 'Neighborhood Latitude', 'Neighborhood Longitude', \n                             'Venue', 'Venue Latitude', 'Venue Longitude', 'Venue Category']\n    \n    return(nearby)"
        },
        {
            "cell_type": "code",
            "execution_count": 267,
            "metadata": {},
            "outputs": [],
            "source": "Newham_venues = getNearby(names=df7['Neighborhood'],\n                                   latitudes=df7['Latitude'],\n                                   longitudes=df7['Longitude']\n                                  )"
        },
        {
            "cell_type": "markdown",
            "metadata": {},
            "source": "#### Cleaning the data"
        },
        {
            "cell_type": "code",
            "execution_count": 268,
            "metadata": {},
            "outputs": [
                {
                    "data": {
                        "text/plain": "(229, 7)"
                    },
                    "execution_count": 268,
                    "metadata": {},
                    "output_type": "execute_result"
                }
            ],
            "source": "Newham_venues.shape\n\n"
        },
        {
            "cell_type": "code",
            "execution_count": 269,
            "metadata": {},
            "outputs": [
                {
                    "data": {
                        "text/html": "<div>\n<style scoped>\n    .dataframe tbody tr th:only-of-type {\n        vertical-align: middle;\n    }\n\n    .dataframe tbody tr th {\n        vertical-align: top;\n    }\n\n    .dataframe thead th {\n        text-align: right;\n    }\n</style>\n<table border=\"1\" class=\"dataframe\">\n  <thead>\n    <tr style=\"text-align: right;\">\n      <th></th>\n      <th>Neighborhood</th>\n      <th>Neighborhood Latitude</th>\n      <th>Neighborhood Longitude</th>\n      <th>Venue</th>\n      <th>Venue Latitude</th>\n      <th>Venue Longitude</th>\n      <th>Venue Category</th>\n    </tr>\n  </thead>\n  <tbody>\n    <tr>\n      <th>0</th>\n      <td>Beckton</td>\n      <td>51.514206</td>\n      <td>0.066634</td>\n      <td>East london Gymnastics Club</td>\n      <td>51.514107</td>\n      <td>0.060155</td>\n      <td>Gym / Fitness Center</td>\n    </tr>\n    <tr>\n      <th>1</th>\n      <td>Beckton</td>\n      <td>51.514206</td>\n      <td>0.066634</td>\n      <td>Home Bargains</td>\n      <td>51.516805</td>\n      <td>0.062804</td>\n      <td>Discount Store</td>\n    </tr>\n    <tr>\n      <th>2</th>\n      <td>Beckton</td>\n      <td>51.514206</td>\n      <td>0.066634</td>\n      <td>Lituanica</td>\n      <td>51.516442</td>\n      <td>0.062927</td>\n      <td>Grocery Store</td>\n    </tr>\n    <tr>\n      <th>3</th>\n      <td>Beckton</td>\n      <td>51.514206</td>\n      <td>0.066634</td>\n      <td>Premier Inn London Beckton</td>\n      <td>51.515115</td>\n      <td>0.061016</td>\n      <td>Hotel</td>\n    </tr>\n    <tr>\n      <th>4</th>\n      <td>Beckton</td>\n      <td>51.514206</td>\n      <td>0.066634</td>\n      <td>Matalan</td>\n      <td>51.516004</td>\n      <td>0.062635</td>\n      <td>Clothing Store</td>\n    </tr>\n  </tbody>\n</table>\n</div>",
                        "text/plain": "  Neighborhood  Neighborhood Latitude  Neighborhood Longitude  \\\n0      Beckton              51.514206                0.066634   \n1      Beckton              51.514206                0.066634   \n2      Beckton              51.514206                0.066634   \n3      Beckton              51.514206                0.066634   \n4      Beckton              51.514206                0.066634   \n\n                         Venue  Venue Latitude  Venue Longitude  \\\n0  East london Gymnastics Club       51.514107         0.060155   \n1                Home Bargains       51.516805         0.062804   \n2                    Lituanica       51.516442         0.062927   \n3   Premier Inn London Beckton       51.515115         0.061016   \n4                      Matalan       51.516004         0.062635   \n\n         Venue Category  \n0  Gym / Fitness Center  \n1        Discount Store  \n2         Grocery Store  \n3                 Hotel  \n4        Clothing Store  "
                    },
                    "execution_count": 269,
                    "metadata": {},
                    "output_type": "execute_result"
                }
            ],
            "source": "Newham_venues.head()"
        },
        {
            "cell_type": "code",
            "execution_count": 270,
            "metadata": {},
            "outputs": [
                {
                    "data": {
                        "text/html": "<div>\n<style scoped>\n    .dataframe tbody tr th:only-of-type {\n        vertical-align: middle;\n    }\n\n    .dataframe tbody tr th {\n        vertical-align: top;\n    }\n\n    .dataframe thead th {\n        text-align: right;\n    }\n</style>\n<table border=\"1\" class=\"dataframe\">\n  <thead>\n    <tr style=\"text-align: right;\">\n      <th></th>\n      <th>Neighborhood Latitude</th>\n      <th>Neighborhood Longitude</th>\n      <th>Venue</th>\n      <th>Venue Latitude</th>\n      <th>Venue Longitude</th>\n      <th>Venue Category</th>\n    </tr>\n    <tr>\n      <th>Neighborhood</th>\n      <th></th>\n      <th></th>\n      <th></th>\n      <th></th>\n      <th></th>\n      <th></th>\n    </tr>\n  </thead>\n  <tbody>\n    <tr>\n      <th>Beckton</th>\n      <td>9</td>\n      <td>9</td>\n      <td>9</td>\n      <td>9</td>\n      <td>9</td>\n      <td>9</td>\n    </tr>\n    <tr>\n      <th>Canning Town</th>\n      <td>4</td>\n      <td>4</td>\n      <td>4</td>\n      <td>4</td>\n      <td>4</td>\n      <td>4</td>\n    </tr>\n    <tr>\n      <th>Custom House</th>\n      <td>30</td>\n      <td>30</td>\n      <td>30</td>\n      <td>30</td>\n      <td>30</td>\n      <td>30</td>\n    </tr>\n    <tr>\n      <th>East Ham</th>\n      <td>15</td>\n      <td>15</td>\n      <td>15</td>\n      <td>15</td>\n      <td>15</td>\n      <td>15</td>\n    </tr>\n    <tr>\n      <th>Forest Gate</th>\n      <td>12</td>\n      <td>12</td>\n      <td>12</td>\n      <td>12</td>\n      <td>12</td>\n      <td>12</td>\n    </tr>\n    <tr>\n      <th>Little Ilford</th>\n      <td>4</td>\n      <td>4</td>\n      <td>4</td>\n      <td>4</td>\n      <td>4</td>\n      <td>4</td>\n    </tr>\n    <tr>\n      <th>Manor Park</th>\n      <td>4</td>\n      <td>4</td>\n      <td>4</td>\n      <td>4</td>\n      <td>4</td>\n      <td>4</td>\n    </tr>\n    <tr>\n      <th>Maryland</th>\n      <td>28</td>\n      <td>28</td>\n      <td>28</td>\n      <td>28</td>\n      <td>28</td>\n      <td>28</td>\n    </tr>\n    <tr>\n      <th>North Woolwich</th>\n      <td>22</td>\n      <td>22</td>\n      <td>22</td>\n      <td>22</td>\n      <td>22</td>\n      <td>22</td>\n    </tr>\n    <tr>\n      <th>Plaistow</th>\n      <td>11</td>\n      <td>11</td>\n      <td>11</td>\n      <td>11</td>\n      <td>11</td>\n      <td>11</td>\n    </tr>\n    <tr>\n      <th>Silvertown</th>\n      <td>8</td>\n      <td>8</td>\n      <td>8</td>\n      <td>8</td>\n      <td>8</td>\n      <td>8</td>\n    </tr>\n    <tr>\n      <th>Stratford</th>\n      <td>70</td>\n      <td>70</td>\n      <td>70</td>\n      <td>70</td>\n      <td>70</td>\n      <td>70</td>\n    </tr>\n    <tr>\n      <th>Upton Park</th>\n      <td>6</td>\n      <td>6</td>\n      <td>6</td>\n      <td>6</td>\n      <td>6</td>\n      <td>6</td>\n    </tr>\n    <tr>\n      <th>West Ham</th>\n      <td>6</td>\n      <td>6</td>\n      <td>6</td>\n      <td>6</td>\n      <td>6</td>\n      <td>6</td>\n    </tr>\n  </tbody>\n</table>\n</div>",
                        "text/plain": "                Neighborhood Latitude  Neighborhood Longitude  Venue  \\\nNeighborhood                                                           \nBeckton                             9                       9      9   \nCanning Town                        4                       4      4   \nCustom House                       30                      30     30   \nEast Ham                           15                      15     15   \nForest Gate                        12                      12     12   \nLittle Ilford                       4                       4      4   \nManor Park                          4                       4      4   \nMaryland                           28                      28     28   \nNorth Woolwich                     22                      22     22   \nPlaistow                           11                      11     11   \nSilvertown                          8                       8      8   \nStratford                          70                      70     70   \nUpton Park                          6                       6      6   \nWest Ham                            6                       6      6   \n\n                Venue Latitude  Venue Longitude  Venue Category  \nNeighborhood                                                     \nBeckton                      9                9               9  \nCanning Town                 4                4               4  \nCustom House                30               30              30  \nEast Ham                    15               15              15  \nForest Gate                 12               12              12  \nLittle Ilford                4                4               4  \nManor Park                   4                4               4  \nMaryland                    28               28              28  \nNorth Woolwich              22               22              22  \nPlaistow                    11               11              11  \nSilvertown                   8                8               8  \nStratford                   70               70              70  \nUpton Park                   6                6               6  \nWest Ham                     6                6               6  "
                    },
                    "execution_count": 270,
                    "metadata": {},
                    "output_type": "execute_result"
                }
            ],
            "source": "Newham_venues.groupby('Neighborhood').count()\n"
        },
        {
            "cell_type": "code",
            "execution_count": 271,
            "metadata": {},
            "outputs": [
                {
                    "data": {
                        "text/plain": "102"
                    },
                    "execution_count": 271,
                    "metadata": {},
                    "output_type": "execute_result"
                }
            ],
            "source": "len(Newham_venues['Venue Category'].unique())"
        },
        {
            "cell_type": "markdown",
            "metadata": {},
            "source": "# Analyze all Neighborhood in Newham"
        },
        {
            "cell_type": "markdown",
            "metadata": {},
            "source": "will start by creating one hot encoding, add neighborhood column back to dataframe & move neighborhood column to the first column\n"
        },
        {
            "cell_type": "code",
            "execution_count": 273,
            "metadata": {
                "scrolled": true
            },
            "outputs": [
                {
                    "data": {
                        "text/html": "<div>\n<style scoped>\n    .dataframe tbody tr th:only-of-type {\n        vertical-align: middle;\n    }\n\n    .dataframe tbody tr th {\n        vertical-align: top;\n    }\n\n    .dataframe thead th {\n        text-align: right;\n    }\n</style>\n<table border=\"1\" class=\"dataframe\">\n  <thead>\n    <tr style=\"text-align: right;\">\n      <th></th>\n      <th>Neighborhood</th>\n      <th>Accessories Store</th>\n      <th>African Restaurant</th>\n      <th>Art Gallery</th>\n      <th>Bakery</th>\n      <th>Bar</th>\n      <th>Boat or Ferry</th>\n      <th>Bookstore</th>\n      <th>Boutique</th>\n      <th>Brewery</th>\n      <th>...</th>\n      <th>Thai Restaurant</th>\n      <th>Theater</th>\n      <th>Toy / Game Store</th>\n      <th>Train Station</th>\n      <th>Tunnel</th>\n      <th>Turkish Restaurant</th>\n      <th>Video Game Store</th>\n      <th>Vietnamese Restaurant</th>\n      <th>Warehouse Store</th>\n      <th>Wine Bar</th>\n    </tr>\n  </thead>\n  <tbody>\n    <tr>\n      <th>0</th>\n      <td>Beckton</td>\n      <td>0</td>\n      <td>0</td>\n      <td>0</td>\n      <td>0</td>\n      <td>0</td>\n      <td>0</td>\n      <td>0</td>\n      <td>0</td>\n      <td>0</td>\n      <td>...</td>\n      <td>0</td>\n      <td>0</td>\n      <td>0</td>\n      <td>0</td>\n      <td>0</td>\n      <td>0</td>\n      <td>0</td>\n      <td>0</td>\n      <td>0</td>\n      <td>0</td>\n    </tr>\n    <tr>\n      <th>1</th>\n      <td>Beckton</td>\n      <td>0</td>\n      <td>0</td>\n      <td>0</td>\n      <td>0</td>\n      <td>0</td>\n      <td>0</td>\n      <td>0</td>\n      <td>0</td>\n      <td>0</td>\n      <td>...</td>\n      <td>0</td>\n      <td>0</td>\n      <td>0</td>\n      <td>0</td>\n      <td>0</td>\n      <td>0</td>\n      <td>0</td>\n      <td>0</td>\n      <td>0</td>\n      <td>0</td>\n    </tr>\n    <tr>\n      <th>2</th>\n      <td>Beckton</td>\n      <td>0</td>\n      <td>0</td>\n      <td>0</td>\n      <td>0</td>\n      <td>0</td>\n      <td>0</td>\n      <td>0</td>\n      <td>0</td>\n      <td>0</td>\n      <td>...</td>\n      <td>0</td>\n      <td>0</td>\n      <td>0</td>\n      <td>0</td>\n      <td>0</td>\n      <td>0</td>\n      <td>0</td>\n      <td>0</td>\n      <td>0</td>\n      <td>0</td>\n    </tr>\n    <tr>\n      <th>3</th>\n      <td>Beckton</td>\n      <td>0</td>\n      <td>0</td>\n      <td>0</td>\n      <td>0</td>\n      <td>0</td>\n      <td>0</td>\n      <td>0</td>\n      <td>0</td>\n      <td>0</td>\n      <td>...</td>\n      <td>0</td>\n      <td>0</td>\n      <td>0</td>\n      <td>0</td>\n      <td>0</td>\n      <td>0</td>\n      <td>0</td>\n      <td>0</td>\n      <td>0</td>\n      <td>0</td>\n    </tr>\n    <tr>\n      <th>4</th>\n      <td>Beckton</td>\n      <td>0</td>\n      <td>0</td>\n      <td>0</td>\n      <td>0</td>\n      <td>0</td>\n      <td>0</td>\n      <td>0</td>\n      <td>0</td>\n      <td>0</td>\n      <td>...</td>\n      <td>0</td>\n      <td>0</td>\n      <td>0</td>\n      <td>0</td>\n      <td>0</td>\n      <td>0</td>\n      <td>0</td>\n      <td>0</td>\n      <td>0</td>\n      <td>0</td>\n    </tr>\n  </tbody>\n</table>\n<p>5 rows \u00d7 103 columns</p>\n</div>",
                        "text/plain": "  Neighborhood  Accessories Store  African Restaurant  Art Gallery  Bakery  \\\n0      Beckton                  0                   0            0       0   \n1      Beckton                  0                   0            0       0   \n2      Beckton                  0                   0            0       0   \n3      Beckton                  0                   0            0       0   \n4      Beckton                  0                   0            0       0   \n\n   Bar  Boat or Ferry  Bookstore  Boutique  Brewery  ...  Thai Restaurant  \\\n0    0              0          0         0        0  ...                0   \n1    0              0          0         0        0  ...                0   \n2    0              0          0         0        0  ...                0   \n3    0              0          0         0        0  ...                0   \n4    0              0          0         0        0  ...                0   \n\n   Theater  Toy / Game Store  Train Station  Tunnel  Turkish Restaurant  \\\n0        0                 0              0       0                   0   \n1        0                 0              0       0                   0   \n2        0                 0              0       0                   0   \n3        0                 0              0       0                   0   \n4        0                 0              0       0                   0   \n\n   Video Game Store  Vietnamese Restaurant  Warehouse Store  Wine Bar  \n0                 0                      0                0         0  \n1                 0                      0                0         0  \n2                 0                      0                0         0  \n3                 0                      0                0         0  \n4                 0                      0                0         0  \n\n[5 rows x 103 columns]"
                    },
                    "execution_count": 273,
                    "metadata": {},
                    "output_type": "execute_result"
                }
            ],
            "source": "onehot = pd.get_dummies(Newham_venues[['Venue Category']], prefix=\"\", prefix_sep=\"\")\nonehot['Neighborhood'] = Newham_venues['Neighborhood'] \nfixed_columns = [onehot.columns[-1]] + list(onehot.columns[:-1])\nonehot = onehot[fixed_columns]\n\nonehot.head()"
        },
        {
            "cell_type": "markdown",
            "metadata": {},
            "source": "Exploring the data"
        },
        {
            "cell_type": "code",
            "execution_count": 274,
            "metadata": {},
            "outputs": [
                {
                    "data": {
                        "text/plain": "(229, 103)"
                    },
                    "execution_count": 274,
                    "metadata": {},
                    "output_type": "execute_result"
                }
            ],
            "source": "onehot.shape"
        },
        {
            "cell_type": "code",
            "execution_count": 275,
            "metadata": {
                "scrolled": true
            },
            "outputs": [
                {
                    "data": {
                        "text/html": "<div>\n<style scoped>\n    .dataframe tbody tr th:only-of-type {\n        vertical-align: middle;\n    }\n\n    .dataframe tbody tr th {\n        vertical-align: top;\n    }\n\n    .dataframe thead th {\n        text-align: right;\n    }\n</style>\n<table border=\"1\" class=\"dataframe\">\n  <thead>\n    <tr style=\"text-align: right;\">\n      <th></th>\n      <th>Neighborhood</th>\n      <th>Accessories Store</th>\n      <th>African Restaurant</th>\n      <th>Art Gallery</th>\n      <th>Bakery</th>\n      <th>Bar</th>\n      <th>Boat or Ferry</th>\n      <th>Bookstore</th>\n      <th>Boutique</th>\n      <th>Brewery</th>\n      <th>...</th>\n      <th>Thai Restaurant</th>\n      <th>Theater</th>\n      <th>Toy / Game Store</th>\n      <th>Train Station</th>\n      <th>Tunnel</th>\n      <th>Turkish Restaurant</th>\n      <th>Video Game Store</th>\n      <th>Vietnamese Restaurant</th>\n      <th>Warehouse Store</th>\n      <th>Wine Bar</th>\n    </tr>\n  </thead>\n  <tbody>\n    <tr>\n      <th>0</th>\n      <td>Beckton</td>\n      <td>0.0</td>\n      <td>0.0</td>\n      <td>0.0</td>\n      <td>0.000000</td>\n      <td>0.0</td>\n      <td>0.0</td>\n      <td>0.000000</td>\n      <td>0.0</td>\n      <td>0.0</td>\n      <td>...</td>\n      <td>0.0</td>\n      <td>0.0</td>\n      <td>0.0</td>\n      <td>0.000000</td>\n      <td>0.0</td>\n      <td>0.000000</td>\n      <td>0.0</td>\n      <td>0.0</td>\n      <td>0.000000</td>\n      <td>0.000000</td>\n    </tr>\n    <tr>\n      <th>1</th>\n      <td>Canning Town</td>\n      <td>0.0</td>\n      <td>0.0</td>\n      <td>0.0</td>\n      <td>0.000000</td>\n      <td>0.0</td>\n      <td>0.0</td>\n      <td>0.000000</td>\n      <td>0.0</td>\n      <td>0.0</td>\n      <td>...</td>\n      <td>0.0</td>\n      <td>0.0</td>\n      <td>0.0</td>\n      <td>0.000000</td>\n      <td>0.0</td>\n      <td>0.000000</td>\n      <td>0.0</td>\n      <td>0.0</td>\n      <td>0.000000</td>\n      <td>0.000000</td>\n    </tr>\n    <tr>\n      <th>2</th>\n      <td>Custom House</td>\n      <td>0.0</td>\n      <td>0.0</td>\n      <td>0.0</td>\n      <td>0.000000</td>\n      <td>0.0</td>\n      <td>0.0</td>\n      <td>0.000000</td>\n      <td>0.0</td>\n      <td>0.0</td>\n      <td>...</td>\n      <td>0.0</td>\n      <td>0.0</td>\n      <td>0.0</td>\n      <td>0.000000</td>\n      <td>0.0</td>\n      <td>0.000000</td>\n      <td>0.0</td>\n      <td>0.0</td>\n      <td>0.000000</td>\n      <td>0.033333</td>\n    </tr>\n    <tr>\n      <th>3</th>\n      <td>East Ham</td>\n      <td>0.0</td>\n      <td>0.0</td>\n      <td>0.0</td>\n      <td>0.000000</td>\n      <td>0.0</td>\n      <td>0.0</td>\n      <td>0.066667</td>\n      <td>0.0</td>\n      <td>0.0</td>\n      <td>...</td>\n      <td>0.0</td>\n      <td>0.0</td>\n      <td>0.0</td>\n      <td>0.000000</td>\n      <td>0.0</td>\n      <td>0.066667</td>\n      <td>0.0</td>\n      <td>0.0</td>\n      <td>0.066667</td>\n      <td>0.000000</td>\n    </tr>\n    <tr>\n      <th>4</th>\n      <td>Forest Gate</td>\n      <td>0.0</td>\n      <td>0.0</td>\n      <td>0.0</td>\n      <td>0.083333</td>\n      <td>0.0</td>\n      <td>0.0</td>\n      <td>0.000000</td>\n      <td>0.0</td>\n      <td>0.0</td>\n      <td>...</td>\n      <td>0.0</td>\n      <td>0.0</td>\n      <td>0.0</td>\n      <td>0.083333</td>\n      <td>0.0</td>\n      <td>0.000000</td>\n      <td>0.0</td>\n      <td>0.0</td>\n      <td>0.000000</td>\n      <td>0.000000</td>\n    </tr>\n  </tbody>\n</table>\n<p>5 rows \u00d7 103 columns</p>\n</div>",
                        "text/plain": "   Neighborhood  Accessories Store  African Restaurant  Art Gallery    Bakery  \\\n0       Beckton                0.0                 0.0          0.0  0.000000   \n1  Canning Town                0.0                 0.0          0.0  0.000000   \n2  Custom House                0.0                 0.0          0.0  0.000000   \n3      East Ham                0.0                 0.0          0.0  0.000000   \n4   Forest Gate                0.0                 0.0          0.0  0.083333   \n\n   Bar  Boat or Ferry  Bookstore  Boutique  Brewery  ...  Thai Restaurant  \\\n0  0.0            0.0   0.000000       0.0      0.0  ...              0.0   \n1  0.0            0.0   0.000000       0.0      0.0  ...              0.0   \n2  0.0            0.0   0.000000       0.0      0.0  ...              0.0   \n3  0.0            0.0   0.066667       0.0      0.0  ...              0.0   \n4  0.0            0.0   0.000000       0.0      0.0  ...              0.0   \n\n   Theater  Toy / Game Store  Train Station  Tunnel  Turkish Restaurant  \\\n0      0.0               0.0       0.000000     0.0            0.000000   \n1      0.0               0.0       0.000000     0.0            0.000000   \n2      0.0               0.0       0.000000     0.0            0.000000   \n3      0.0               0.0       0.000000     0.0            0.066667   \n4      0.0               0.0       0.083333     0.0            0.000000   \n\n   Video Game Store  Vietnamese Restaurant  Warehouse Store  Wine Bar  \n0               0.0                    0.0         0.000000  0.000000  \n1               0.0                    0.0         0.000000  0.000000  \n2               0.0                    0.0         0.000000  0.033333  \n3               0.0                    0.0         0.066667  0.000000  \n4               0.0                    0.0         0.000000  0.000000  \n\n[5 rows x 103 columns]"
                    },
                    "execution_count": 275,
                    "metadata": {},
                    "output_type": "execute_result"
                }
            ],
            "source": "Newham_Neighbors = onehot.groupby('Neighborhood').mean().reset_index()\nNewham_Neighbors.head()"
        },
        {
            "cell_type": "code",
            "execution_count": 276,
            "metadata": {},
            "outputs": [
                {
                    "data": {
                        "text/plain": "Index(['Neighborhood', 'Accessories Store', 'African Restaurant',\n       'Art Gallery', 'Bakery', 'Bar', 'Boat or Ferry', 'Bookstore',\n       'Boutique', 'Brewery',\n       ...\n       'Thai Restaurant', 'Theater', 'Toy / Game Store', 'Train Station',\n       'Tunnel', 'Turkish Restaurant', 'Video Game Store',\n       'Vietnamese Restaurant', 'Warehouse Store', 'Wine Bar'],\n      dtype='object', length=103)"
                    },
                    "execution_count": 276,
                    "metadata": {},
                    "output_type": "execute_result"
                }
            ],
            "source": "Newham_Neighbors.columns"
        },
        {
            "cell_type": "code",
            "execution_count": 277,
            "metadata": {},
            "outputs": [
                {
                    "data": {
                        "text/plain": "(14, 103)"
                    },
                    "execution_count": 277,
                    "metadata": {},
                    "output_type": "execute_result"
                }
            ],
            "source": "Newham_Neighbors.shape"
        },
        {
            "cell_type": "markdown",
            "metadata": {},
            "source": "print all neighborhoods with the top 5 most common venues"
        },
        {
            "cell_type": "code",
            "execution_count": 278,
            "metadata": {},
            "outputs": [
                {
                    "name": "stdout",
                    "output_type": "stream",
                    "text": "----Beckton----\n                    venue  freq\n0          Clothing Store  0.11\n1  Furniture / Home Store  0.11\n2          Discount Store  0.11\n3          Shopping Plaza  0.11\n4                   Hotel  0.11\n\n\n----Canning Town----\n               venue  freq\n0               Park  0.25\n1  Convenience Store  0.25\n2        Gas Station  0.25\n3               Caf\u00e9  0.25\n4  Accessories Store  0.00\n\n\n----Custom House----\n                venue  freq\n0               Hotel  0.13\n1  Chinese Restaurant  0.10\n2                 Pub  0.07\n3                 Gym  0.07\n4         Coffee Shop  0.07\n\n\n----East Ham----\n                 venue  freq\n0    Electronics Store  0.07\n1                  Pub  0.07\n2          Coffee Shop  0.07\n3       Clothing Store  0.07\n4  Sporting Goods Shop  0.07\n\n\n----Forest Gate----\n               venue  freq\n0      Grocery Store  0.25\n1               Caf\u00e9  0.17\n2      Train Station  0.08\n3  Fish & Chips Shop  0.08\n4             Market  0.08\n\n\n----Little Ilford----\n                       venue  freq\n0          Indian Restaurant  0.25\n1              Grocery Store  0.25\n2        Fried Chicken Joint  0.25\n3             Ice Cream Shop  0.25\n4  Middle Eastern Restaurant  0.00\n\n\n----Manor Park----\n                  venue  freq\n0     Indian Restaurant  0.25\n1            Restaurant  0.25\n2  Gym / Fitness Center  0.25\n3           Gas Station  0.25\n4    Mexican Restaurant  0.00\n\n\n----Maryland----\n                  venue  freq\n0                 Hotel  0.18\n1                   Pub  0.11\n2                  Caf\u00e9  0.07\n3     Indian Restaurant  0.07\n4  Hungarian Restaurant  0.04\n\n\n----North Woolwich----\n                  venue  freq\n0                  Pier  0.14\n1        Clothing Store  0.09\n2                 Hotel  0.09\n3  Gym / Fitness Center  0.05\n4                 River  0.05\n\n\n----Plaistow----\n                  venue  freq\n0         Grocery Store  0.18\n1     Indian Restaurant  0.09\n2  Gym / Fitness Center  0.09\n3                   Pub  0.09\n4                  Park  0.09\n\n\n----Silvertown----\n                  venue  freq\n0                  Park  0.12\n1       Paintball Field  0.12\n2  Gym / Fitness Center  0.12\n3                Museum  0.12\n4               Theater  0.12\n\n\n----Stratford----\n                venue  freq\n0                 Pub  0.09\n1      Clothing Store  0.04\n2                Caf\u00e9  0.04\n3    Toy / Game Store  0.03\n4  Italian Restaurant  0.03\n\n\n----Upton Park----\n               venue  freq\n0                Pub  0.33\n1           Boutique  0.17\n2  Convenience Store  0.17\n3           Bus Line  0.17\n4           Bus Stop  0.17\n\n\n----West Ham----\n               venue  freq\n0                Pub  0.33\n1           Boutique  0.17\n2  Convenience Store  0.17\n3           Bus Line  0.17\n4           Bus Stop  0.17\n\n\n"
                }
            ],
            "source": "top5 = 5\nfor hood in Newham_Neighbors['Neighborhood']:\n    print(\"----\"+hood+\"----\")\n    temp = Newham_Neighbors[Newham_Neighbors['Neighborhood'] == hood].T.reset_index()\n    temp.columns = ['venue','freq']\n    temp = temp.iloc[1:]\n    temp['freq'] = temp['freq'].astype(float)\n    temp = temp.round({'freq': 2})\n    print(temp.sort_values('freq', ascending=False).reset_index(drop=True).head(top5))\n    print('\\n')"
        },
        {
            "cell_type": "markdown",
            "metadata": {},
            "source": "#### above into DF\nDef to sort the venues in descending order"
        },
        {
            "cell_type": "code",
            "execution_count": 280,
            "metadata": {},
            "outputs": [],
            "source": "def return_most_common_venues(row, num_top_venues):\n    row_categories = row.iloc[1:]\n    row_categories_sorted = row_categories.sort_values(ascending=False)\n    \n    return row_categories_sorted.index.values[0:num_top_venues]"
        },
        {
            "cell_type": "markdown",
            "metadata": {},
            "source": "## create  new df & display  top 10 venues for each neighborhood\n"
        },
        {
            "cell_type": "code",
            "execution_count": 282,
            "metadata": {},
            "outputs": [],
            "source": "top10 = 10\nindicators = ['st', 'nd', 'rd']\n\ncolumns = ['Neighborhood']\nfor ind in np.arange(top10):\n    try:\n        columns.append('{}{} Most Common Venue'.format(ind+1, indicators[ind]))\n    except:\n        columns.append('{}th Most Common Venue'.format(ind+1))\n        \nSorted_neighborhoods = pd.DataFrame(columns=columns)\nSorted_neighborhoods['Neighborhood'] = Newham_Neighbors['Neighborhood']\n\nfor ind in np.arange(Newham_Neighbors.shape[0]):\n    Sorted_neighborhoods.iloc[ind, 1:] = return_most_common_venues(Newham_Neighbors.iloc[ind, :], top10)"
        },
        {
            "cell_type": "code",
            "execution_count": 283,
            "metadata": {},
            "outputs": [
                {
                    "data": {
                        "text/html": "<div>\n<style scoped>\n    .dataframe tbody tr th:only-of-type {\n        vertical-align: middle;\n    }\n\n    .dataframe tbody tr th {\n        vertical-align: top;\n    }\n\n    .dataframe thead th {\n        text-align: right;\n    }\n</style>\n<table border=\"1\" class=\"dataframe\">\n  <thead>\n    <tr style=\"text-align: right;\">\n      <th></th>\n      <th>Neighborhood</th>\n      <th>1st Most Common Venue</th>\n      <th>2nd Most Common Venue</th>\n      <th>3rd Most Common Venue</th>\n      <th>4th Most Common Venue</th>\n      <th>5th Most Common Venue</th>\n      <th>6th Most Common Venue</th>\n      <th>7th Most Common Venue</th>\n      <th>8th Most Common Venue</th>\n      <th>9th Most Common Venue</th>\n      <th>10th Most Common Venue</th>\n    </tr>\n  </thead>\n  <tbody>\n    <tr>\n      <th>0</th>\n      <td>Beckton</td>\n      <td>Hotel</td>\n      <td>Furniture / Home Store</td>\n      <td>Pub</td>\n      <td>Clothing Store</td>\n      <td>Light Rail Station</td>\n      <td>Shopping Plaza</td>\n      <td>Discount Store</td>\n      <td>Grocery Store</td>\n      <td>Gym / Fitness Center</td>\n      <td>Fast Food Restaurant</td>\n    </tr>\n    <tr>\n      <th>1</th>\n      <td>Canning Town</td>\n      <td>Park</td>\n      <td>Convenience Store</td>\n      <td>Gas Station</td>\n      <td>Caf\u00e9</td>\n      <td>Wine Bar</td>\n      <td>Food Court</td>\n      <td>Donut Shop</td>\n      <td>Dry Cleaner</td>\n      <td>Eastern European Restaurant</td>\n      <td>Electronics Store</td>\n    </tr>\n    <tr>\n      <th>2</th>\n      <td>Custom House</td>\n      <td>Hotel</td>\n      <td>Chinese Restaurant</td>\n      <td>Pub</td>\n      <td>Coffee Shop</td>\n      <td>Gym</td>\n      <td>Wine Bar</td>\n      <td>Restaurant</td>\n      <td>Middle Eastern Restaurant</td>\n      <td>Light Rail Station</td>\n      <td>Italian Restaurant</td>\n    </tr>\n    <tr>\n      <th>3</th>\n      <td>East Ham</td>\n      <td>Gym Pool</td>\n      <td>Supermarket</td>\n      <td>Park</td>\n      <td>Coffee Shop</td>\n      <td>Clothing Store</td>\n      <td>Pub</td>\n      <td>Electronics Store</td>\n      <td>Fast Food Restaurant</td>\n      <td>Sandwich Place</td>\n      <td>Sporting Goods Shop</td>\n    </tr>\n    <tr>\n      <th>4</th>\n      <td>Forest Gate</td>\n      <td>Grocery Store</td>\n      <td>Caf\u00e9</td>\n      <td>Bakery</td>\n      <td>Train Station</td>\n      <td>Pub</td>\n      <td>Fast Food Restaurant</td>\n      <td>Fish &amp; Chips Shop</td>\n      <td>Chinese Restaurant</td>\n      <td>Market</td>\n      <td>Wine Bar</td>\n    </tr>\n  </tbody>\n</table>\n</div>",
                        "text/plain": "   Neighborhood 1st Most Common Venue   2nd Most Common Venue  \\\n0       Beckton                 Hotel  Furniture / Home Store   \n1  Canning Town                  Park       Convenience Store   \n2  Custom House                 Hotel      Chinese Restaurant   \n3      East Ham              Gym Pool             Supermarket   \n4   Forest Gate         Grocery Store                    Caf\u00e9   \n\n  3rd Most Common Venue 4th Most Common Venue 5th Most Common Venue  \\\n0                   Pub        Clothing Store    Light Rail Station   \n1           Gas Station                  Caf\u00e9              Wine Bar   \n2                   Pub           Coffee Shop                   Gym   \n3                  Park           Coffee Shop        Clothing Store   \n4                Bakery         Train Station                   Pub   \n\n  6th Most Common Venue 7th Most Common Venue      8th Most Common Venue  \\\n0        Shopping Plaza        Discount Store              Grocery Store   \n1            Food Court            Donut Shop                Dry Cleaner   \n2              Wine Bar            Restaurant  Middle Eastern Restaurant   \n3                   Pub     Electronics Store       Fast Food Restaurant   \n4  Fast Food Restaurant     Fish & Chips Shop         Chinese Restaurant   \n\n         9th Most Common Venue 10th Most Common Venue  \n0         Gym / Fitness Center   Fast Food Restaurant  \n1  Eastern European Restaurant      Electronics Store  \n2           Light Rail Station     Italian Restaurant  \n3               Sandwich Place    Sporting Goods Shop  \n4                       Market               Wine Bar  "
                    },
                    "execution_count": 283,
                    "metadata": {},
                    "output_type": "execute_result"
                }
            ],
            "source": "Sorted_neighborhoods.head()"
        },
        {
            "cell_type": "markdown",
            "metadata": {},
            "source": "# ClusterING the Neighborhoods\n"
        },
        {
            "cell_type": "markdown",
            "metadata": {},
            "source": "### Run K-means algorithm to cluster the neighborhood into 5"
        },
        {
            "cell_type": "code",
            "execution_count": 285,
            "metadata": {},
            "outputs": [
                {
                    "data": {
                        "text/html": "<div>\n<style scoped>\n    .dataframe tbody tr th:only-of-type {\n        vertical-align: middle;\n    }\n\n    .dataframe tbody tr th {\n        vertical-align: top;\n    }\n\n    .dataframe thead th {\n        text-align: right;\n    }\n</style>\n<table border=\"1\" class=\"dataframe\">\n  <thead>\n    <tr style=\"text-align: right;\">\n      <th></th>\n      <th>Neighborhood</th>\n      <th>Accessories Store</th>\n      <th>African Restaurant</th>\n      <th>Art Gallery</th>\n      <th>Bakery</th>\n      <th>Bar</th>\n      <th>Boat or Ferry</th>\n      <th>Bookstore</th>\n      <th>Boutique</th>\n      <th>Brewery</th>\n      <th>...</th>\n      <th>Thai Restaurant</th>\n      <th>Theater</th>\n      <th>Toy / Game Store</th>\n      <th>Train Station</th>\n      <th>Tunnel</th>\n      <th>Turkish Restaurant</th>\n      <th>Video Game Store</th>\n      <th>Vietnamese Restaurant</th>\n      <th>Warehouse Store</th>\n      <th>Wine Bar</th>\n    </tr>\n  </thead>\n  <tbody>\n    <tr>\n      <th>0</th>\n      <td>Beckton</td>\n      <td>0.0</td>\n      <td>0.0</td>\n      <td>0.0</td>\n      <td>0.000000</td>\n      <td>0.0</td>\n      <td>0.0</td>\n      <td>0.000000</td>\n      <td>0.0</td>\n      <td>0.0</td>\n      <td>...</td>\n      <td>0.0</td>\n      <td>0.0</td>\n      <td>0.0</td>\n      <td>0.000000</td>\n      <td>0.0</td>\n      <td>0.000000</td>\n      <td>0.0</td>\n      <td>0.0</td>\n      <td>0.000000</td>\n      <td>0.000000</td>\n    </tr>\n    <tr>\n      <th>1</th>\n      <td>Canning Town</td>\n      <td>0.0</td>\n      <td>0.0</td>\n      <td>0.0</td>\n      <td>0.000000</td>\n      <td>0.0</td>\n      <td>0.0</td>\n      <td>0.000000</td>\n      <td>0.0</td>\n      <td>0.0</td>\n      <td>...</td>\n      <td>0.0</td>\n      <td>0.0</td>\n      <td>0.0</td>\n      <td>0.000000</td>\n      <td>0.0</td>\n      <td>0.000000</td>\n      <td>0.0</td>\n      <td>0.0</td>\n      <td>0.000000</td>\n      <td>0.000000</td>\n    </tr>\n    <tr>\n      <th>2</th>\n      <td>Custom House</td>\n      <td>0.0</td>\n      <td>0.0</td>\n      <td>0.0</td>\n      <td>0.000000</td>\n      <td>0.0</td>\n      <td>0.0</td>\n      <td>0.000000</td>\n      <td>0.0</td>\n      <td>0.0</td>\n      <td>...</td>\n      <td>0.0</td>\n      <td>0.0</td>\n      <td>0.0</td>\n      <td>0.000000</td>\n      <td>0.0</td>\n      <td>0.000000</td>\n      <td>0.0</td>\n      <td>0.0</td>\n      <td>0.000000</td>\n      <td>0.033333</td>\n    </tr>\n    <tr>\n      <th>3</th>\n      <td>East Ham</td>\n      <td>0.0</td>\n      <td>0.0</td>\n      <td>0.0</td>\n      <td>0.000000</td>\n      <td>0.0</td>\n      <td>0.0</td>\n      <td>0.066667</td>\n      <td>0.0</td>\n      <td>0.0</td>\n      <td>...</td>\n      <td>0.0</td>\n      <td>0.0</td>\n      <td>0.0</td>\n      <td>0.000000</td>\n      <td>0.0</td>\n      <td>0.066667</td>\n      <td>0.0</td>\n      <td>0.0</td>\n      <td>0.066667</td>\n      <td>0.000000</td>\n    </tr>\n    <tr>\n      <th>4</th>\n      <td>Forest Gate</td>\n      <td>0.0</td>\n      <td>0.0</td>\n      <td>0.0</td>\n      <td>0.083333</td>\n      <td>0.0</td>\n      <td>0.0</td>\n      <td>0.000000</td>\n      <td>0.0</td>\n      <td>0.0</td>\n      <td>...</td>\n      <td>0.0</td>\n      <td>0.0</td>\n      <td>0.0</td>\n      <td>0.083333</td>\n      <td>0.0</td>\n      <td>0.000000</td>\n      <td>0.0</td>\n      <td>0.0</td>\n      <td>0.000000</td>\n      <td>0.000000</td>\n    </tr>\n  </tbody>\n</table>\n<p>5 rows \u00d7 103 columns</p>\n</div>",
                        "text/plain": "   Neighborhood  Accessories Store  African Restaurant  Art Gallery    Bakery  \\\n0       Beckton                0.0                 0.0          0.0  0.000000   \n1  Canning Town                0.0                 0.0          0.0  0.000000   \n2  Custom House                0.0                 0.0          0.0  0.000000   \n3      East Ham                0.0                 0.0          0.0  0.000000   \n4   Forest Gate                0.0                 0.0          0.0  0.083333   \n\n   Bar  Boat or Ferry  Bookstore  Boutique  Brewery  ...  Thai Restaurant  \\\n0  0.0            0.0   0.000000       0.0      0.0  ...              0.0   \n1  0.0            0.0   0.000000       0.0      0.0  ...              0.0   \n2  0.0            0.0   0.000000       0.0      0.0  ...              0.0   \n3  0.0            0.0   0.066667       0.0      0.0  ...              0.0   \n4  0.0            0.0   0.000000       0.0      0.0  ...              0.0   \n\n   Theater  Toy / Game Store  Train Station  Tunnel  Turkish Restaurant  \\\n0      0.0               0.0       0.000000     0.0            0.000000   \n1      0.0               0.0       0.000000     0.0            0.000000   \n2      0.0               0.0       0.000000     0.0            0.000000   \n3      0.0               0.0       0.000000     0.0            0.066667   \n4      0.0               0.0       0.083333     0.0            0.000000   \n\n   Video Game Store  Vietnamese Restaurant  Warehouse Store  Wine Bar  \n0               0.0                    0.0         0.000000  0.000000  \n1               0.0                    0.0         0.000000  0.000000  \n2               0.0                    0.0         0.000000  0.033333  \n3               0.0                    0.0         0.066667  0.000000  \n4               0.0                    0.0         0.000000  0.000000  \n\n[5 rows x 103 columns]"
                    },
                    "execution_count": 285,
                    "metadata": {},
                    "output_type": "execute_result"
                }
            ],
            "source": "Newham_Neighbors.head()\n"
        },
        {
            "cell_type": "code",
            "execution_count": 287,
            "metadata": {},
            "outputs": [
                {
                    "data": {
                        "text/plain": "array([0, 4, 0, 0, 0, 3, 2, 0, 0, 0], dtype=int32)"
                    },
                    "execution_count": 287,
                    "metadata": {},
                    "output_type": "execute_result"
                }
            ],
            "source": "kclusters = 5\nNewham_clustered = Newham_Neighbors.drop('Neighborhood', 1)\nkmeans = KMeans(n_clusters=kclusters, random_state=0).fit(Newham_clustered)\nkmeans.labels_[0:10]"
        },
        {
            "cell_type": "code",
            "execution_count": 288,
            "metadata": {},
            "outputs": [
                {
                    "data": {
                        "text/plain": "KMeans(algorithm='auto', copy_x=True, init='k-means++', max_iter=300,\n    n_clusters=5, n_init=10, n_jobs=None, precompute_distances='auto',\n    random_state=0, tol=0.0001, verbose=0)"
                    },
                    "execution_count": 288,
                    "metadata": {},
                    "output_type": "execute_result"
                }
            ],
            "source": "kmeans"
        },
        {
            "cell_type": "markdown",
            "metadata": {},
            "source": "#### create a new dataframe that includes the cluster as well as the top 10 venues for each neighborhood & merge Neighborhoods dataframe with Newham borough dataframe to add coordinates for each neighborhood\n"
        },
        {
            "cell_type": "code",
            "execution_count": 290,
            "metadata": {},
            "outputs": [
                {
                    "data": {
                        "text/html": "<div>\n<style scoped>\n    .dataframe tbody tr th:only-of-type {\n        vertical-align: middle;\n    }\n\n    .dataframe tbody tr th {\n        vertical-align: top;\n    }\n\n    .dataframe thead th {\n        text-align: right;\n    }\n</style>\n<table border=\"1\" class=\"dataframe\">\n  <thead>\n    <tr style=\"text-align: right;\">\n      <th></th>\n      <th>Borough</th>\n      <th>Neighborhood</th>\n      <th>Latitude</th>\n      <th>Longitude</th>\n      <th>Cluster Labels</th>\n      <th>1st Most Common Venue</th>\n      <th>2nd Most Common Venue</th>\n      <th>3rd Most Common Venue</th>\n      <th>4th Most Common Venue</th>\n      <th>5th Most Common Venue</th>\n      <th>6th Most Common Venue</th>\n      <th>7th Most Common Venue</th>\n      <th>8th Most Common Venue</th>\n      <th>9th Most Common Venue</th>\n      <th>10th Most Common Venue</th>\n    </tr>\n  </thead>\n  <tbody>\n    <tr>\n      <th>0</th>\n      <td>Newham</td>\n      <td>Beckton</td>\n      <td>51.514206</td>\n      <td>0.066634</td>\n      <td>0</td>\n      <td>Hotel</td>\n      <td>Furniture / Home Store</td>\n      <td>Pub</td>\n      <td>Clothing Store</td>\n      <td>Light Rail Station</td>\n      <td>Shopping Plaza</td>\n      <td>Discount Store</td>\n      <td>Grocery Store</td>\n      <td>Gym / Fitness Center</td>\n      <td>Fast Food Restaurant</td>\n    </tr>\n    <tr>\n      <th>1</th>\n      <td>Newham</td>\n      <td>Canning Town</td>\n      <td>51.514959</td>\n      <td>0.023429</td>\n      <td>4</td>\n      <td>Park</td>\n      <td>Convenience Store</td>\n      <td>Gas Station</td>\n      <td>Caf\u00e9</td>\n      <td>Wine Bar</td>\n      <td>Food Court</td>\n      <td>Donut Shop</td>\n      <td>Dry Cleaner</td>\n      <td>Eastern European Restaurant</td>\n      <td>Electronics Store</td>\n    </tr>\n    <tr>\n      <th>2</th>\n      <td>Newham</td>\n      <td>Custom House</td>\n      <td>51.507696</td>\n      <td>0.027431</td>\n      <td>0</td>\n      <td>Hotel</td>\n      <td>Chinese Restaurant</td>\n      <td>Pub</td>\n      <td>Coffee Shop</td>\n      <td>Gym</td>\n      <td>Wine Bar</td>\n      <td>Restaurant</td>\n      <td>Middle Eastern Restaurant</td>\n      <td>Light Rail Station</td>\n      <td>Italian Restaurant</td>\n    </tr>\n    <tr>\n      <th>3</th>\n      <td>Newham</td>\n      <td>East Ham</td>\n      <td>51.532430</td>\n      <td>0.053041</td>\n      <td>0</td>\n      <td>Gym Pool</td>\n      <td>Supermarket</td>\n      <td>Park</td>\n      <td>Coffee Shop</td>\n      <td>Clothing Store</td>\n      <td>Pub</td>\n      <td>Electronics Store</td>\n      <td>Fast Food Restaurant</td>\n      <td>Sandwich Place</td>\n      <td>Sporting Goods Shop</td>\n    </tr>\n    <tr>\n      <th>4</th>\n      <td>Newham</td>\n      <td>Forest Gate</td>\n      <td>51.550902</td>\n      <td>0.025024</td>\n      <td>0</td>\n      <td>Grocery Store</td>\n      <td>Caf\u00e9</td>\n      <td>Bakery</td>\n      <td>Train Station</td>\n      <td>Pub</td>\n      <td>Fast Food Restaurant</td>\n      <td>Fish &amp; Chips Shop</td>\n      <td>Chinese Restaurant</td>\n      <td>Market</td>\n      <td>Wine Bar</td>\n    </tr>\n  </tbody>\n</table>\n</div>",
                        "text/plain": "  Borough  Neighborhood   Latitude  Longitude  Cluster Labels  \\\n0  Newham       Beckton  51.514206   0.066634               0   \n1  Newham  Canning Town  51.514959   0.023429               4   \n2  Newham  Custom House  51.507696   0.027431               0   \n3  Newham      East Ham  51.532430   0.053041               0   \n4  Newham   Forest Gate  51.550902   0.025024               0   \n\n  1st Most Common Venue   2nd Most Common Venue 3rd Most Common Venue  \\\n0                 Hotel  Furniture / Home Store                   Pub   \n1                  Park       Convenience Store           Gas Station   \n2                 Hotel      Chinese Restaurant                   Pub   \n3              Gym Pool             Supermarket                  Park   \n4         Grocery Store                    Caf\u00e9                Bakery   \n\n  4th Most Common Venue 5th Most Common Venue 6th Most Common Venue  \\\n0        Clothing Store    Light Rail Station        Shopping Plaza   \n1                  Caf\u00e9              Wine Bar            Food Court   \n2           Coffee Shop                   Gym              Wine Bar   \n3           Coffee Shop        Clothing Store                   Pub   \n4         Train Station                   Pub  Fast Food Restaurant   \n\n  7th Most Common Venue      8th Most Common Venue  \\\n0        Discount Store              Grocery Store   \n1            Donut Shop                Dry Cleaner   \n2            Restaurant  Middle Eastern Restaurant   \n3     Electronics Store       Fast Food Restaurant   \n4     Fish & Chips Shop         Chinese Restaurant   \n\n         9th Most Common Venue 10th Most Common Venue  \n0         Gym / Fitness Center   Fast Food Restaurant  \n1  Eastern European Restaurant      Electronics Store  \n2           Light Rail Station     Italian Restaurant  \n3               Sandwich Place    Sporting Goods Shop  \n4                       Market               Wine Bar  "
                    },
                    "execution_count": 290,
                    "metadata": {},
                    "output_type": "execute_result"
                }
            ],
            "source": "Newham_final = df7\nNewham_final['Cluster Labels'] = kmeans.labels_\n\nNewham_final = Newham_final.join(Sorted_neighborhoods.set_index('Neighborhood'), on='Neighborhood')\n\nNewham_final.head()"
        },
        {
            "cell_type": "markdown",
            "metadata": {},
            "source": "# Examine the Clusters"
        },
        {
            "cell_type": "code",
            "execution_count": 291,
            "metadata": {},
            "outputs": [
                {
                    "data": {
                        "text/html": "<div>\n<style scoped>\n    .dataframe tbody tr th:only-of-type {\n        vertical-align: middle;\n    }\n\n    .dataframe tbody tr th {\n        vertical-align: top;\n    }\n\n    .dataframe thead th {\n        text-align: right;\n    }\n</style>\n<table border=\"1\" class=\"dataframe\">\n  <thead>\n    <tr style=\"text-align: right;\">\n      <th></th>\n      <th>Neighborhood</th>\n      <th>1st Most Common Venue</th>\n      <th>2nd Most Common Venue</th>\n      <th>3rd Most Common Venue</th>\n      <th>4th Most Common Venue</th>\n      <th>5th Most Common Venue</th>\n      <th>6th Most Common Venue</th>\n      <th>7th Most Common Venue</th>\n      <th>8th Most Common Venue</th>\n      <th>9th Most Common Venue</th>\n      <th>10th Most Common Venue</th>\n    </tr>\n  </thead>\n  <tbody>\n    <tr>\n      <th>0</th>\n      <td>Beckton</td>\n      <td>Hotel</td>\n      <td>Furniture / Home Store</td>\n      <td>Pub</td>\n      <td>Clothing Store</td>\n      <td>Light Rail Station</td>\n      <td>Shopping Plaza</td>\n      <td>Discount Store</td>\n      <td>Grocery Store</td>\n      <td>Gym / Fitness Center</td>\n      <td>Fast Food Restaurant</td>\n    </tr>\n    <tr>\n      <th>2</th>\n      <td>Custom House</td>\n      <td>Hotel</td>\n      <td>Chinese Restaurant</td>\n      <td>Pub</td>\n      <td>Coffee Shop</td>\n      <td>Gym</td>\n      <td>Wine Bar</td>\n      <td>Restaurant</td>\n      <td>Middle Eastern Restaurant</td>\n      <td>Light Rail Station</td>\n      <td>Italian Restaurant</td>\n    </tr>\n    <tr>\n      <th>3</th>\n      <td>East Ham</td>\n      <td>Gym Pool</td>\n      <td>Supermarket</td>\n      <td>Park</td>\n      <td>Coffee Shop</td>\n      <td>Clothing Store</td>\n      <td>Pub</td>\n      <td>Electronics Store</td>\n      <td>Fast Food Restaurant</td>\n      <td>Sandwich Place</td>\n      <td>Sporting Goods Shop</td>\n    </tr>\n    <tr>\n      <th>4</th>\n      <td>Forest Gate</td>\n      <td>Grocery Store</td>\n      <td>Caf\u00e9</td>\n      <td>Bakery</td>\n      <td>Train Station</td>\n      <td>Pub</td>\n      <td>Fast Food Restaurant</td>\n      <td>Fish &amp; Chips Shop</td>\n      <td>Chinese Restaurant</td>\n      <td>Market</td>\n      <td>Wine Bar</td>\n    </tr>\n    <tr>\n      <th>7</th>\n      <td>Maryland</td>\n      <td>Hotel</td>\n      <td>Pub</td>\n      <td>Indian Restaurant</td>\n      <td>Caf\u00e9</td>\n      <td>Grocery Store</td>\n      <td>Dance Studio</td>\n      <td>Eastern European Restaurant</td>\n      <td>Liquor Store</td>\n      <td>Portuguese Restaurant</td>\n      <td>Bus Stop</td>\n    </tr>\n    <tr>\n      <th>8</th>\n      <td>North Woolwich</td>\n      <td>Pier</td>\n      <td>Clothing Store</td>\n      <td>Hotel</td>\n      <td>Grocery Store</td>\n      <td>Fountain</td>\n      <td>Pub</td>\n      <td>River</td>\n      <td>Italian Restaurant</td>\n      <td>Sandwich Place</td>\n      <td>Sculpture Garden</td>\n    </tr>\n    <tr>\n      <th>9</th>\n      <td>Plaistow</td>\n      <td>Grocery Store</td>\n      <td>Bus Stop</td>\n      <td>Pub</td>\n      <td>Caf\u00e9</td>\n      <td>Business Service</td>\n      <td>Indian Restaurant</td>\n      <td>Park</td>\n      <td>Vietnamese Restaurant</td>\n      <td>Gym / Fitness Center</td>\n      <td>African Restaurant</td>\n    </tr>\n    <tr>\n      <th>11</th>\n      <td>Stratford</td>\n      <td>Pub</td>\n      <td>Caf\u00e9</td>\n      <td>Clothing Store</td>\n      <td>Pizza Place</td>\n      <td>Sandwich Place</td>\n      <td>Department Store</td>\n      <td>Ice Cream Shop</td>\n      <td>Shopping Mall</td>\n      <td>Burger Joint</td>\n      <td>Italian Restaurant</td>\n    </tr>\n  </tbody>\n</table>\n</div>",
                        "text/plain": "      Neighborhood 1st Most Common Venue   2nd Most Common Venue  \\\n0          Beckton                 Hotel  Furniture / Home Store   \n2     Custom House                 Hotel      Chinese Restaurant   \n3         East Ham              Gym Pool             Supermarket   \n4      Forest Gate         Grocery Store                    Caf\u00e9   \n7         Maryland                 Hotel                     Pub   \n8   North Woolwich                  Pier          Clothing Store   \n9         Plaistow         Grocery Store                Bus Stop   \n11       Stratford                   Pub                    Caf\u00e9   \n\n   3rd Most Common Venue 4th Most Common Venue 5th Most Common Venue  \\\n0                    Pub        Clothing Store    Light Rail Station   \n2                    Pub           Coffee Shop                   Gym   \n3                   Park           Coffee Shop        Clothing Store   \n4                 Bakery         Train Station                   Pub   \n7      Indian Restaurant                  Caf\u00e9         Grocery Store   \n8                  Hotel         Grocery Store              Fountain   \n9                    Pub                  Caf\u00e9      Business Service   \n11        Clothing Store           Pizza Place        Sandwich Place   \n\n   6th Most Common Venue        7th Most Common Venue  \\\n0         Shopping Plaza               Discount Store   \n2               Wine Bar                   Restaurant   \n3                    Pub            Electronics Store   \n4   Fast Food Restaurant            Fish & Chips Shop   \n7           Dance Studio  Eastern European Restaurant   \n8                    Pub                        River   \n9      Indian Restaurant                         Park   \n11      Department Store               Ice Cream Shop   \n\n        8th Most Common Venue  9th Most Common Venue 10th Most Common Venue  \n0               Grocery Store   Gym / Fitness Center   Fast Food Restaurant  \n2   Middle Eastern Restaurant     Light Rail Station     Italian Restaurant  \n3        Fast Food Restaurant         Sandwich Place    Sporting Goods Shop  \n4          Chinese Restaurant                 Market               Wine Bar  \n7                Liquor Store  Portuguese Restaurant               Bus Stop  \n8          Italian Restaurant         Sandwich Place       Sculpture Garden  \n9       Vietnamese Restaurant   Gym / Fitness Center     African Restaurant  \n11              Shopping Mall           Burger Joint     Italian Restaurant  "
                    },
                    "execution_count": 291,
                    "metadata": {},
                    "output_type": "execute_result"
                }
            ],
            "source": "Newham_final.loc[Newham_final['Cluster Labels'] == 0, Newham_final.columns[[1] + list(range(5, Newham_final.shape[1]))]]\n"
        },
        {
            "cell_type": "code",
            "execution_count": 292,
            "metadata": {},
            "outputs": [
                {
                    "data": {
                        "text/html": "<div>\n<style scoped>\n    .dataframe tbody tr th:only-of-type {\n        vertical-align: middle;\n    }\n\n    .dataframe tbody tr th {\n        vertical-align: top;\n    }\n\n    .dataframe thead th {\n        text-align: right;\n    }\n</style>\n<table border=\"1\" class=\"dataframe\">\n  <thead>\n    <tr style=\"text-align: right;\">\n      <th></th>\n      <th>Neighborhood</th>\n      <th>1st Most Common Venue</th>\n      <th>2nd Most Common Venue</th>\n      <th>3rd Most Common Venue</th>\n      <th>4th Most Common Venue</th>\n      <th>5th Most Common Venue</th>\n      <th>6th Most Common Venue</th>\n      <th>7th Most Common Venue</th>\n      <th>8th Most Common Venue</th>\n      <th>9th Most Common Venue</th>\n      <th>10th Most Common Venue</th>\n    </tr>\n  </thead>\n  <tbody>\n    <tr>\n      <th>12</th>\n      <td>Upton Park</td>\n      <td>Pub</td>\n      <td>Bus Stop</td>\n      <td>Convenience Store</td>\n      <td>Boutique</td>\n      <td>Bus Line</td>\n      <td>Fried Chicken Joint</td>\n      <td>Donut Shop</td>\n      <td>Dry Cleaner</td>\n      <td>Eastern European Restaurant</td>\n      <td>Electronics Store</td>\n    </tr>\n    <tr>\n      <th>13</th>\n      <td>West Ham</td>\n      <td>Pub</td>\n      <td>Bus Stop</td>\n      <td>Convenience Store</td>\n      <td>Boutique</td>\n      <td>Bus Line</td>\n      <td>Fried Chicken Joint</td>\n      <td>Donut Shop</td>\n      <td>Dry Cleaner</td>\n      <td>Eastern European Restaurant</td>\n      <td>Electronics Store</td>\n    </tr>\n  </tbody>\n</table>\n</div>",
                        "text/plain": "   Neighborhood 1st Most Common Venue 2nd Most Common Venue  \\\n12   Upton Park                   Pub              Bus Stop   \n13     West Ham                   Pub              Bus Stop   \n\n   3rd Most Common Venue 4th Most Common Venue 5th Most Common Venue  \\\n12     Convenience Store              Boutique              Bus Line   \n13     Convenience Store              Boutique              Bus Line   \n\n   6th Most Common Venue 7th Most Common Venue 8th Most Common Venue  \\\n12   Fried Chicken Joint            Donut Shop           Dry Cleaner   \n13   Fried Chicken Joint            Donut Shop           Dry Cleaner   \n\n          9th Most Common Venue 10th Most Common Venue  \n12  Eastern European Restaurant      Electronics Store  \n13  Eastern European Restaurant      Electronics Store  "
                    },
                    "execution_count": 292,
                    "metadata": {},
                    "output_type": "execute_result"
                }
            ],
            "source": "Newham_final.loc[Newham_final['Cluster Labels'] == 1, Newham_final.columns[[1] + list(range(5, Newham_final.shape[1]))]]\n"
        },
        {
            "cell_type": "code",
            "execution_count": 293,
            "metadata": {},
            "outputs": [
                {
                    "data": {
                        "text/html": "<div>\n<style scoped>\n    .dataframe tbody tr th:only-of-type {\n        vertical-align: middle;\n    }\n\n    .dataframe tbody tr th {\n        vertical-align: top;\n    }\n\n    .dataframe thead th {\n        text-align: right;\n    }\n</style>\n<table border=\"1\" class=\"dataframe\">\n  <thead>\n    <tr style=\"text-align: right;\">\n      <th></th>\n      <th>Neighborhood</th>\n      <th>1st Most Common Venue</th>\n      <th>2nd Most Common Venue</th>\n      <th>3rd Most Common Venue</th>\n      <th>4th Most Common Venue</th>\n      <th>5th Most Common Venue</th>\n      <th>6th Most Common Venue</th>\n      <th>7th Most Common Venue</th>\n      <th>8th Most Common Venue</th>\n      <th>9th Most Common Venue</th>\n      <th>10th Most Common Venue</th>\n    </tr>\n  </thead>\n  <tbody>\n    <tr>\n      <th>6</th>\n      <td>Manor Park</td>\n      <td>Gym / Fitness Center</td>\n      <td>Indian Restaurant</td>\n      <td>Restaurant</td>\n      <td>Gas Station</td>\n      <td>Wine Bar</td>\n      <td>Food Court</td>\n      <td>Doner Restaurant</td>\n      <td>Donut Shop</td>\n      <td>Dry Cleaner</td>\n      <td>Eastern European Restaurant</td>\n    </tr>\n  </tbody>\n</table>\n</div>",
                        "text/plain": "  Neighborhood 1st Most Common Venue 2nd Most Common Venue  \\\n6   Manor Park  Gym / Fitness Center     Indian Restaurant   \n\n  3rd Most Common Venue 4th Most Common Venue 5th Most Common Venue  \\\n6            Restaurant           Gas Station              Wine Bar   \n\n  6th Most Common Venue 7th Most Common Venue 8th Most Common Venue  \\\n6            Food Court      Doner Restaurant            Donut Shop   \n\n  9th Most Common Venue       10th Most Common Venue  \n6           Dry Cleaner  Eastern European Restaurant  "
                    },
                    "execution_count": 293,
                    "metadata": {},
                    "output_type": "execute_result"
                }
            ],
            "source": "Newham_final.loc[Newham_final['Cluster Labels'] == 2, Newham_final.columns[[1] + list(range(5, Newham_final.shape[1]))]]\n"
        },
        {
            "cell_type": "code",
            "execution_count": 294,
            "metadata": {},
            "outputs": [
                {
                    "data": {
                        "text/html": "<div>\n<style scoped>\n    .dataframe tbody tr th:only-of-type {\n        vertical-align: middle;\n    }\n\n    .dataframe tbody tr th {\n        vertical-align: top;\n    }\n\n    .dataframe thead th {\n        text-align: right;\n    }\n</style>\n<table border=\"1\" class=\"dataframe\">\n  <thead>\n    <tr style=\"text-align: right;\">\n      <th></th>\n      <th>Neighborhood</th>\n      <th>1st Most Common Venue</th>\n      <th>2nd Most Common Venue</th>\n      <th>3rd Most Common Venue</th>\n      <th>4th Most Common Venue</th>\n      <th>5th Most Common Venue</th>\n      <th>6th Most Common Venue</th>\n      <th>7th Most Common Venue</th>\n      <th>8th Most Common Venue</th>\n      <th>9th Most Common Venue</th>\n      <th>10th Most Common Venue</th>\n    </tr>\n  </thead>\n  <tbody>\n    <tr>\n      <th>5</th>\n      <td>Little Ilford</td>\n      <td>Ice Cream Shop</td>\n      <td>Indian Restaurant</td>\n      <td>Grocery Store</td>\n      <td>Fried Chicken Joint</td>\n      <td>Wine Bar</td>\n      <td>Fountain</td>\n      <td>Doner Restaurant</td>\n      <td>Donut Shop</td>\n      <td>Dry Cleaner</td>\n      <td>Eastern European Restaurant</td>\n    </tr>\n  </tbody>\n</table>\n</div>",
                        "text/plain": "    Neighborhood 1st Most Common Venue 2nd Most Common Venue  \\\n5  Little Ilford        Ice Cream Shop     Indian Restaurant   \n\n  3rd Most Common Venue 4th Most Common Venue 5th Most Common Venue  \\\n5         Grocery Store   Fried Chicken Joint              Wine Bar   \n\n  6th Most Common Venue 7th Most Common Venue 8th Most Common Venue  \\\n5              Fountain      Doner Restaurant            Donut Shop   \n\n  9th Most Common Venue       10th Most Common Venue  \n5           Dry Cleaner  Eastern European Restaurant  "
                    },
                    "execution_count": 294,
                    "metadata": {},
                    "output_type": "execute_result"
                }
            ],
            "source": "Newham_final.loc[Newham_final['Cluster Labels'] == 3, Newham_final.columns[[1] + list(range(5, Newham_final.shape[1]))]]\n"
        },
        {
            "cell_type": "code",
            "execution_count": 295,
            "metadata": {
                "scrolled": true
            },
            "outputs": [
                {
                    "data": {
                        "text/html": "<div>\n<style scoped>\n    .dataframe tbody tr th:only-of-type {\n        vertical-align: middle;\n    }\n\n    .dataframe tbody tr th {\n        vertical-align: top;\n    }\n\n    .dataframe thead th {\n        text-align: right;\n    }\n</style>\n<table border=\"1\" class=\"dataframe\">\n  <thead>\n    <tr style=\"text-align: right;\">\n      <th></th>\n      <th>Neighborhood</th>\n      <th>1st Most Common Venue</th>\n      <th>2nd Most Common Venue</th>\n      <th>3rd Most Common Venue</th>\n      <th>4th Most Common Venue</th>\n      <th>5th Most Common Venue</th>\n      <th>6th Most Common Venue</th>\n      <th>7th Most Common Venue</th>\n      <th>8th Most Common Venue</th>\n      <th>9th Most Common Venue</th>\n      <th>10th Most Common Venue</th>\n    </tr>\n  </thead>\n  <tbody>\n    <tr>\n      <th>1</th>\n      <td>Canning Town</td>\n      <td>Park</td>\n      <td>Convenience Store</td>\n      <td>Gas Station</td>\n      <td>Caf\u00e9</td>\n      <td>Wine Bar</td>\n      <td>Food Court</td>\n      <td>Donut Shop</td>\n      <td>Dry Cleaner</td>\n      <td>Eastern European Restaurant</td>\n      <td>Electronics Store</td>\n    </tr>\n    <tr>\n      <th>10</th>\n      <td>Silvertown</td>\n      <td>Park</td>\n      <td>Gym / Fitness Center</td>\n      <td>Paintball Field</td>\n      <td>Go Kart Track</td>\n      <td>Museum</td>\n      <td>Theater</td>\n      <td>Construction &amp; Landscaping</td>\n      <td>Caf\u00e9</td>\n      <td>Fast Food Restaurant</td>\n      <td>Doner Restaurant</td>\n    </tr>\n  </tbody>\n</table>\n</div>",
                        "text/plain": "    Neighborhood 1st Most Common Venue 2nd Most Common Venue  \\\n1   Canning Town                  Park     Convenience Store   \n10    Silvertown                  Park  Gym / Fitness Center   \n\n   3rd Most Common Venue 4th Most Common Venue 5th Most Common Venue  \\\n1            Gas Station                  Caf\u00e9              Wine Bar   \n10       Paintball Field         Go Kart Track                Museum   \n\n   6th Most Common Venue       7th Most Common Venue 8th Most Common Venue  \\\n1             Food Court                  Donut Shop           Dry Cleaner   \n10               Theater  Construction & Landscaping                  Caf\u00e9   \n\n          9th Most Common Venue 10th Most Common Venue  \n1   Eastern European Restaurant      Electronics Store  \n10         Fast Food Restaurant       Doner Restaurant  "
                    },
                    "execution_count": 295,
                    "metadata": {},
                    "output_type": "execute_result"
                }
            ],
            "source": "Newham_final.loc[Newham_final['Cluster Labels'] == 4, Newham_final.columns[[1] + list(range(5, Newham_final.shape[1]))]]\n"
        },
        {
            "cell_type": "markdown",
            "metadata": {},
            "source": "# Results"
        },
        {
            "cell_type": "markdown",
            "metadata": {},
            "source": "After examining the created clusters.  As a result we recommend that Beckton, Custom House, Maryland, Eastham and Manor Park are the best neighborhoods in Newham borough, to open Asian restaurant.  The restaurants has the most common visited venues by the public in these areas.  Moreover it\u2019s highly populated with Asians."
        },
        {
            "cell_type": "code",
            "execution_count": null,
            "metadata": {},
            "outputs": [],
            "source": ""
        }
    ],
    "metadata": {
        "kernelspec": {
            "display_name": "Python 3.6",
            "language": "python",
            "name": "python3"
        },
        "language_info": {
            "codemirror_mode": {
                "name": "ipython",
                "version": 3
            },
            "file_extension": ".py",
            "mimetype": "text/x-python",
            "name": "python",
            "nbconvert_exporter": "python",
            "pygments_lexer": "ipython3",
            "version": "3.6.9"
        }
    },
    "nbformat": 4,
    "nbformat_minor": 1
}